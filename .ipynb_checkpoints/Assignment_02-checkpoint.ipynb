{
 "cells": [
  {
   "cell_type": "markdown",
   "id": "bdee7be6",
   "metadata": {},
   "source": [
    "# Variables"
   ]
  },
  {
   "cell_type": "code",
   "execution_count": 11,
   "id": "179620c5",
   "metadata": {},
   "outputs": [
    {
     "name": "stdout",
     "output_type": "stream",
     "text": [
      "before swapping\n",
      "x = 10\n",
      "y = 20\n",
      "\n",
      "after swapping\n",
      "x = 20\n",
      "y = 10\n"
     ]
    }
   ],
   "source": [
    "### 1. Write a program that swaps the values of two variables. \n",
    "\n",
    "x = 10\n",
    "y = 20\n",
    "\n",
    "print(\"before swapping\")\n",
    "print(\"x =\", x)\n",
    "print(\"y =\", y\n",
    "\n",
    "x,y  = y,x\n",
    "\n",
    "print(\"\\nafter swapping\")\n",
    "print(\"x =\", x)\n",
    "print(\"y =\", y)\n",
    "      \n",
    "\n"
   ]
  },
  {
   "cell_type": "code",
   "execution_count": 15,
   "id": "26538845",
   "metadata": {},
   "outputs": [
    {
     "name": "stdout",
     "output_type": "stream",
     "text": [
      "Enter the length of the rectangle:9.7\n",
      "Enter the width of the rectangle:5.4\n",
      "The area of the rectangle with length 9.7 and width 5.4 is 52.38\n"
     ]
    }
   ],
   "source": [
    "### 2. Write a program that calculates the area of a rectangle given its length and width. \n",
    "\n",
    "length = float(input(\"Enter the length of the rectangle:\"))\n",
    "width = float(input(\"Enter the width of the rectangle:\"))\n",
    "\n",
    "area = length*width\n",
    "\n",
    "print(\"The area of the rectangle with length\",length,\"and width\",width, \"is\",area)\n",
    "\n"
   ]
  },
  {
   "cell_type": "code",
   "execution_count": 6,
   "id": "477db757",
   "metadata": {},
   "outputs": [
    {
     "name": "stdout",
     "output_type": "stream",
     "text": [
      "Enter a fahrenheit value to convert into Celsius:\n",
      "100\n",
      "Temperature 100.0 F is equal to 37.78 C\n"
     ]
    }
   ],
   "source": [
    "### 3. Write a program that converts temperature from Fahrenheit to Celsius. \n",
    "\n",
    "## convert fahrenheit to celsius\n",
    "\n",
    "temp = float(input(\"Enter a fahrenheit value to convert into Celsius:\\n\"))\n",
    "\n",
    "celsius = round(((temp - 32) * 5/9),2)\n",
    "\n",
    "print(\"Temperature\", temp, \"F is equal to\", celsius, \"C\")"
   ]
  },
  {
   "cell_type": "code",
   "execution_count": 15,
   "id": "da8d606e",
   "metadata": {},
   "outputs": [
    {
     "name": "stdout",
     "output_type": "stream",
     "text": [
      "Enter a celsius value to convert into fahrenheit:\n",
      "37\n",
      "temperature 37.0 C is equal to 98.6 F\n"
     ]
    }
   ],
   "source": [
    "## convert celsius to fahrenheit\n",
    "\n",
    "temp = float(input(\"Enter a celsius value to convert into fahrenheit:\\n\"))\n",
    "\n",
    "fahrenheit = round((9/5*temp)+32,3)\n",
    "\n",
    "print(\"temperature\",temp, \"C is equal to\", fahrenheit, \"F\")"
   ]
  },
  {
   "cell_type": "code",
   "execution_count": 20,
   "id": "a1aed81c",
   "metadata": {},
   "outputs": [
    {
     "name": "stdout",
     "output_type": "stream",
     "text": [
      "Enter the radius of the sphere:\n",
      "5\n",
      "The volume of the sphere with radius 5.0 is 523.6\n"
     ]
    }
   ],
   "source": [
    "### 4. Write a program that calculates the volume of a sphere given its radius.\n",
    "\n",
    "pi = 3.1416\n",
    "\n",
    "radius = float(input(\"Enter the radius of the sphere:\\n\"))\n",
    "\n",
    "volume = round(4/3*pi*radius**3,3)\n",
    "\n",
    "print(\"The volume of the sphere with radius\", radius, \"is\", volume)"
   ]
  },
  {
   "cell_type": "code",
   "execution_count": 25,
   "id": "1c08cd2b",
   "metadata": {},
   "outputs": [
    {
     "name": "stdout",
     "output_type": "stream",
     "text": [
      "Enter your 1st number:5\n",
      "Enter your 2nd number:6\n",
      "Enter your 3rd number:7\n",
      "the average of 5.0 , 6.0 , 7.0 is 6.0\n"
     ]
    }
   ],
   "source": [
    "### 5. Write a program that finds the average of three numbers.\n",
    "\n",
    "number_1 = float(input(\"Enter your 1st number:\"))\n",
    "number_2 = float(input(\"Enter your 2nd number:\"))\n",
    "number_3 = float(input(\"Enter your 3rd number:\"))\n",
    "\n",
    "average = round((number_1 + number_2 + number_3)/3,3)\n",
    "\n",
    "print(\"the average of\", number_1,\",\",number_2,\",\",number_3, \"is\", average)"
   ]
  },
  {
   "cell_type": "markdown",
   "id": "91029dbd",
   "metadata": {},
   "source": [
    "# If-elif-else"
   ]
  },
  {
   "cell_type": "code",
   "execution_count": 44,
   "id": "996da905",
   "metadata": {},
   "outputs": [
    {
     "name": "stdout",
     "output_type": "stream",
     "text": [
      "Enter a number to check if it's odd or even:\n",
      "5\n",
      "5 is odd\n"
     ]
    }
   ],
   "source": [
    "### 6. Write a program that determines if a number is even or odd.\n",
    "\n",
    "num = int(input(\"Enter a number to check if it's odd or even:\\n\"))\n",
    "\n",
    "if num%2 == 0:\n",
    "    print(num,\"is even\")\n",
    "else:\n",
    "    print(num, \"is odd\")"
   ]
  },
  {
   "cell_type": "code",
   "execution_count": 46,
   "id": "e502d26d",
   "metadata": {},
   "outputs": [
    {
     "name": "stdout",
     "output_type": "stream",
     "text": [
      "enter 1st number:\n",
      "4\n",
      "enter 2nd number:\n",
      "6\n",
      "enter 3rd number:\n",
      "18\n",
      "The maximum of 4.0 , 6.0 , and 18.0 is 18.0\n"
     ]
    }
   ],
   "source": [
    "### 7. Write a program that finds the maximum of three numbers.\n",
    "\n",
    "num1 = float(input(\"enter 1st number:\\n\"))\n",
    "num2 = float(input(\"enter 2nd number:\\n\"))\n",
    "num3 = float(input(\"enter 3rd number:\\n\"))\n",
    "\n",
    "maximum = max(num1,num2,num3)\n",
    "\n",
    "print(\"The maximum of\", num1, \",\", num2, \", and\", num3, \"is\", maximum)"
   ]
  },
  {
   "cell_type": "code",
   "execution_count": 64,
   "id": "8c82ebf4",
   "metadata": {},
   "outputs": [
    {
     "name": "stdout",
     "output_type": "stream",
     "text": [
      "enter a year to check if it's a leap year or not:\n",
      "2344\n",
      "2344 is a leap year\n"
     ]
    }
   ],
   "source": [
    "### 8. Write a program that determines if a year is a leap year or not.\n",
    "\n",
    "year = int(input(\"enter a year to check if it's a leap year or not:\\n\"))\n",
    "\n",
    "if year%4==0 and year%100 != 0:\n",
    "    print(year, \"is a leap year\")\n",
    "        \n",
    "elif year%100 == 0 and year%400 != 0:\n",
    "    print(year, \"is not a leap year\")\n",
    "            \n",
    "elif year%4 == 0 and year%100 ==0 and year%400 == 0:\n",
    "    print(year, \"is a leap year\")\n",
    "else:\n",
    "    print(year,\"enter a valid year\")"
   ]
  },
  {
   "cell_type": "code",
   "execution_count": 71,
   "id": "4ca385af",
   "metadata": {},
   "outputs": [
    {
     "name": "stdout",
     "output_type": "stream",
     "text": [
      "enter any number you want:\n",
      "6\n",
      "6.0 is a positive number\n"
     ]
    }
   ],
   "source": [
    "### 9. Write a program that determines if a number is positive, negative, or zero.\n",
    "\n",
    "num = float(input(\"enter any number you want:\\n\"))\n",
    "\n",
    "if num > 0:\n",
    "    print(num, \"is a positive number\")\n",
    "    \n",
    "elif num < 0:\n",
    "    print(num, \"is a negative number\")\n",
    "\n",
    "else:\n",
    "    print(\"this is zero\")"
   ]
  },
  {
   "cell_type": "code",
   "execution_count": 89,
   "id": "5a33b9e4",
   "metadata": {},
   "outputs": [
    {
     "name": "stdout",
     "output_type": "stream",
     "text": [
      "Enter the percentage (0-100): 1000\n",
      "Please enter a percentage between 0 and 100.\n"
     ]
    }
   ],
   "source": [
    "### 10. Write a program that calculates the grade based on a given percentage.\n",
    "\n",
    "\n",
    "percentage = round(float(input(\"Enter the percentage (0-100): \")), 2)\n",
    "\n",
    "if 0 <= percentage <= 100:\n",
    "    if percentage >= 80:\n",
    "        grade = \"A+\"\n",
    "    elif percentage >= 70:\n",
    "        grade = \"A\"\n",
    "    elif percentage >= 60:\n",
    "        grade = \"B\"\n",
    "    elif percentage >= 50:\n",
    "        grade = \"C\"\n",
    "    elif percentage >= 40:\n",
    "        grade = \"D\"\n",
    "    else:\n",
    "        grade = \"F\"\n",
    "    print(\"The grade for\", percentage, \"% is\", grade)\n",
    "else:\n",
    "    print(\"Please enter a percentage between 0 and 100.\")\n",
    "\n",
    "    "
   ]
  },
  {
   "cell_type": "markdown",
   "id": "35e321ba",
   "metadata": {},
   "source": [
    "# For loop"
   ]
  },
  {
   "cell_type": "code",
   "execution_count": 97,
   "id": "d23c9784",
   "metadata": {},
   "outputs": [
    {
     "name": "stdout",
     "output_type": "stream",
     "text": [
      "enter a number:\n",
      "5\n",
      "the first 5 natural numbers are:\n",
      "1,2,3,4,5,"
     ]
    }
   ],
   "source": [
    "### 11. Write a program that prints the first `n` natural numbers.\n",
    "\n",
    "num = int(input(\"enter a number:\\n\"))\n",
    "\n",
    "print(\"the first\", num, \"natural numbers are:\")\n",
    "\n",
    "for numbers in range(1,num+1):\n",
    "    print(numbers, end = \",\")"
   ]
  },
  {
   "cell_type": "code",
   "execution_count": 8,
   "id": "9c8a9dea",
   "metadata": {},
   "outputs": [
    {
     "name": "stdout",
     "output_type": "stream",
     "text": [
      "Enter a number to calculate its factorial:\n",
      "4\n",
      "The factorial of 4 is 24\n"
     ]
    }
   ],
   "source": [
    "### 12. Write a program that calculates the factorial of a number. \n",
    "\n",
    "\n",
    "num = int(input(\"Enter a number to calculate its factorial:\\n\"))\n",
    "\n",
    "factorial = 1\n",
    "\n",
    "if num < 0:\n",
    "    print(\"Factorial is not defined for negative numbers.\")\n",
    "else:\n",
    "    for i in range(1, num + 1):\n",
    "        factorial *= i\n",
    "\n",
    "    print(\"The factorial of\", num, \"is\", factorial)\n",
    "\n"
   ]
  },
  {
   "cell_type": "code",
   "execution_count": 16,
   "id": "52e1af31",
   "metadata": {},
   "outputs": [
    {
     "name": "stdout",
     "output_type": "stream",
     "text": [
      "Enter a number:\n",
      " 4\n",
      "Fibonacci sequence of length 4 is: [0, 1, 1, 2]\n"
     ]
    }
   ],
   "source": [
    "### 13. Write a program that generates a Fibonacci sequence of length `n`.\n",
    "\n",
    "\n",
    "n = int(input(\"Enter a number:\\n \"))\n",
    "\n",
    "\n",
    "a, b = 0, 1\n",
    "fibo = [a, b]\n",
    "\n",
    "\n",
    "for _ in range(2, n):\n",
    "    next_fibonacci_number = a + b\n",
    "    a, b = b, next_fibonacci_number\n",
    "    fibo.append(next_fibonacci_number)\n",
    "\n",
    "\n",
    "print(\"Fibonacci sequence of length\", n, \"is:\", fibo)"
   ]
  },
  {
   "cell_type": "code",
   "execution_count": 9,
   "id": "b3c866f6",
   "metadata": {},
   "outputs": [
    {
     "name": "stdout",
     "output_type": "stream",
     "text": [
      "Enter a number:\n",
      "9\n",
      "9 is not prime\n"
     ]
    }
   ],
   "source": [
    "### 14. Write a program that checks if a given number is prime or not.\n",
    "\n",
    "num = int(input(\"Enter a number:\\n\"))\n",
    "\n",
    "if num > 1:\n",
    "    for i in range(2, num):\n",
    "        if num % i == 0:\n",
    "            print(num, \"is not prime\")\n",
    "            break\n",
    "    else:\n",
    "        print(num, \"is prime\")\n",
    "else:\n",
    "    print(num, \" is a invalid number\")\n"
   ]
  },
  {
   "cell_type": "code",
   "execution_count": 1,
   "id": "8a966269",
   "metadata": {},
   "outputs": [
    {
     "name": "stdout",
     "output_type": "stream",
     "text": [
      "Enter a number:\n",
      "4\n",
      "Multiplication table of 4 :\n",
      "4 x 1 = 4\n",
      "4 x 2 = 8\n",
      "4 x 3 = 12\n",
      "4 x 4 = 16\n",
      "4 x 5 = 20\n",
      "4 x 6 = 24\n",
      "4 x 7 = 28\n",
      "4 x 8 = 32\n",
      "4 x 9 = 36\n",
      "4 x 10 = 40\n"
     ]
    }
   ],
   "source": [
    "### 15. Write a program that prints the multiplication table of a given number.\n",
    "\n",
    "num = int(input(\"Enter a number:\\n\"))\n",
    "\n",
    "print(\"Multiplication table of\", num, \":\")\n",
    "for i in range(1, 11):\n",
    "    print(num, \"x\", i, \"=\", num * i)\n"
   ]
  },
  {
   "cell_type": "markdown",
   "id": "31f34b6c",
   "metadata": {},
   "source": [
    "# while loop"
   ]
  },
  {
   "cell_type": "code",
   "execution_count": 9,
   "id": "848e2add",
   "metadata": {},
   "outputs": [
    {
     "name": "stdout",
     "output_type": "stream",
     "text": [
      "Enter a positive integer n: 8\n",
      "The sum of all even numbers between 1 and 8 is: 20\n"
     ]
    }
   ],
   "source": [
    "### 16. Write a program that finds the sum of all even numbers between 1 and `n`\n",
    "\n",
    "usr_input = int(input(\"Enter a positive integer n: \"))\n",
    "\n",
    "total_sum = 0\n",
    "num = 2\n",
    "\n",
    "while num <= usr_input:\n",
    "    total_sum = total_sum + num\n",
    "    num = num + 2\n",
    "\n",
    "print(\"The sum of all even numbers between 1 and\", n, \"is:\", total_sum)\n"
   ]
  },
  {
   "cell_type": "code",
   "execution_count": 28,
   "id": "61f02ea2",
   "metadata": {},
   "outputs": [
    {
     "name": "stdout",
     "output_type": "stream",
     "text": [
      "enter a number to reverse: 123\n",
      "The reversed number is: 321\n"
     ]
    }
   ],
   "source": [
    "### 17. Write a program that reverses a given number.\n",
    "\n",
    "num = int(input(\"enter a number to reverse: \"))\n",
    "\n",
    "reversed_number = 0\n",
    "\n",
    "while num != 0:\n",
    "    \n",
    "    digit= num%10\n",
    "    reversed_number = reversed_number*10 + digit\n",
    "    num //= 10\n",
    "    \n",
    "print(\"The reversed number is:\", reversed_number)\n"
   ]
  },
  {
   "cell_type": "code",
   "execution_count": 55,
   "id": "bb30dfe1",
   "metadata": {},
   "outputs": [
    {
     "name": "stdout",
     "output_type": "stream",
     "text": [
      "Enter a number or string: rafi\n",
      "This is not a palindrome.\n"
     ]
    }
   ],
   "source": [
    "### 18. Write a program that checks if a given string is a palindrome.\n",
    "\n",
    "usr_input = input(\"Enter a number or string: \")\n",
    "\n",
    "usr_input = usr_input.lower().replace(\" \", \"\")\n",
    "\n",
    "start = 0\n",
    "end = len(usr_input) - 1\n",
    "\n",
    "\n",
    "while start < end:\n",
    "    if usr_input[start] != usr_input[end]:\n",
    "        print(\"This is not a palindrome.\")\n",
    "        break\n",
    "    start += 1\n",
    "    end -= 1\n",
    "else:\n",
    "    print(\"The is a palindrome.\")\n"
   ]
  },
  {
   "cell_type": "code",
   "execution_count": 58,
   "id": "8f5885f7",
   "metadata": {},
   "outputs": [
    {
     "name": "stdout",
     "output_type": "stream",
     "text": [
      "Welcome to the Guess the Number game!\n",
      "I have chosen a number between 1 and 100. Can you guess it?\n",
      "Enter your guess: 9\n",
      "Too low! Try guessing a higher number.\n",
      "Enter your guess: 20\n",
      "Too low! Try guessing a higher number.\n",
      "Enter your guess: 50\n",
      "Too high! Try guessing a lower number.\n",
      "Enter your guess: 40\n",
      "Too low! Try guessing a higher number.\n",
      "Enter your guess: 45\n",
      "Too high! Try guessing a lower number.\n",
      "Enter your guess: 44\n",
      "Too high! Try guessing a lower number.\n",
      "Enter your guess: 41\n",
      "Too low! Try guessing a higher number.\n",
      "Enter your guess: 42\n",
      "Too low! Try guessing a higher number.\n",
      "Enter your guess: 43\n",
      "Congratulations! You guessed the number 43 correctly in 9 attempts!\n"
     ]
    }
   ],
   "source": [
    "### 19. Write a program that generates a random number and allows the user to guess it.\n",
    "\n",
    "import random\n",
    "\n",
    "min_number = 1\n",
    "max_number = 100\n",
    "\n",
    "\n",
    "random_number = random.randint(min_number, max_number)\n",
    "\n",
    "\n",
    "attempts = 0\n",
    "\n",
    "print(\"Welcome to the Guess the Number game!\")\n",
    "print(f\"I have chosen a number between {min_number} and {max_number}. Can you guess it?\")\n",
    "\n",
    "\n",
    "guess = None\n",
    "while guess != random_number:\n",
    "\n",
    "    guess = int(input(\"Enter your guess: \"))\n",
    "    \n",
    "    attempts += 1\n",
    "    \n",
    "    if guess < random_number:\n",
    "        print(\"Too low! Try guessing a higher number.\")\n",
    "    elif guess > random_number:\n",
    "        print(\"Too high! Try guessing a lower number.\")\n",
    "\n",
    "print(f\"Congratulations! You guessed the number {random_number} correctly in {attempts} attempts!\")\n"
   ]
  },
  {
   "cell_type": "code",
   "execution_count": 72,
   "id": "df322846",
   "metadata": {},
   "outputs": [
    {
     "name": "stdout",
     "output_type": "stream",
     "text": [
      "Enter the first number: -6\n",
      "Enter the second number: 9\n",
      "The greatest common divisor (GCD) of 6 and 9 is: 3\n"
     ]
    }
   ],
   "source": [
    "### 20. Write a program that finds the greatest common divisor (GCD) of two numbers. \n",
    "\n",
    "num1 = int(input(\"Enter the first number: \"))\n",
    "num2 = int(input(\"Enter the second number: \"))\n",
    "\n",
    "num1 = abs(num1)\n",
    "num2 = abs(num2)\n",
    "\n",
    "original_num1 = num1\n",
    "original_num2 = num2\n",
    "\n",
    "if num1 < num2:\n",
    "    num1, num2 = num2, num1\n",
    "\n",
    "while num2 != 0:\n",
    "    remainder = num1 % num2\n",
    "    num1 = num2\n",
    "    num2 = remainder\n",
    "\n",
    "print(f\"The greatest common divisor (GCD) of {original_num1} and {original_num2} is: {num1}\")\n"
   ]
  },
  {
   "cell_type": "code",
   "execution_count": null,
   "id": "45ef85d4",
   "metadata": {},
   "outputs": [],
   "source": []
  }
 ],
 "metadata": {
  "kernelspec": {
   "display_name": "Python 3 (ipykernel)",
   "language": "python",
   "name": "python3"
  },
  "language_info": {
   "codemirror_mode": {
    "name": "ipython",
    "version": 3
   },
   "file_extension": ".py",
   "mimetype": "text/x-python",
   "name": "python",
   "nbconvert_exporter": "python",
   "pygments_lexer": "ipython3",
   "version": "3.9.13"
  }
 },
 "nbformat": 4,
 "nbformat_minor": 5
}
