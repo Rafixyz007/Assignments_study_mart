{
 "cells": [
  {
   "cell_type": "markdown",
   "id": "0e540778",
   "metadata": {},
   "source": [
    "## importing necessary libraries"
   ]
  },
  {
   "cell_type": "code",
   "execution_count": 123,
   "id": "e23b2c75",
   "metadata": {},
   "outputs": [],
   "source": [
    "import pandas as pd\n",
    "import numpy as np\n",
    "from matplotlib import pyplot as plt\n",
    "import warnings as wr\n",
    "wr.filterwarnings('ignore')"
   ]
  },
  {
   "cell_type": "code",
   "execution_count": 124,
   "id": "d6e4e215",
   "metadata": {},
   "outputs": [
    {
     "data": {
      "text/html": [
       "<div>\n",
       "<style scoped>\n",
       "    .dataframe tbody tr th:only-of-type {\n",
       "        vertical-align: middle;\n",
       "    }\n",
       "\n",
       "    .dataframe tbody tr th {\n",
       "        vertical-align: top;\n",
       "    }\n",
       "\n",
       "    .dataframe thead th {\n",
       "        text-align: right;\n",
       "    }\n",
       "</style>\n",
       "<table border=\"1\" class=\"dataframe\">\n",
       "  <thead>\n",
       "    <tr style=\"text-align: right;\">\n",
       "      <th></th>\n",
       "      <th>Gender</th>\n",
       "      <th>Height</th>\n",
       "      <th>Weight</th>\n",
       "    </tr>\n",
       "  </thead>\n",
       "  <tbody>\n",
       "    <tr>\n",
       "      <th>0</th>\n",
       "      <td>Male</td>\n",
       "      <td>73.847017</td>\n",
       "      <td>241.893563</td>\n",
       "    </tr>\n",
       "    <tr>\n",
       "      <th>1</th>\n",
       "      <td>Male</td>\n",
       "      <td>68.781904</td>\n",
       "      <td>162.310473</td>\n",
       "    </tr>\n",
       "    <tr>\n",
       "      <th>2</th>\n",
       "      <td>Male</td>\n",
       "      <td>74.110105</td>\n",
       "      <td>212.740856</td>\n",
       "    </tr>\n",
       "    <tr>\n",
       "      <th>3</th>\n",
       "      <td>Male</td>\n",
       "      <td>71.730978</td>\n",
       "      <td>220.042470</td>\n",
       "    </tr>\n",
       "    <tr>\n",
       "      <th>4</th>\n",
       "      <td>Male</td>\n",
       "      <td>69.881796</td>\n",
       "      <td>206.349801</td>\n",
       "    </tr>\n",
       "  </tbody>\n",
       "</table>\n",
       "</div>"
      ],
      "text/plain": [
       "  Gender     Height      Weight\n",
       "0   Male  73.847017  241.893563\n",
       "1   Male  68.781904  162.310473\n",
       "2   Male  74.110105  212.740856\n",
       "3   Male  71.730978  220.042470\n",
       "4   Male  69.881796  206.349801"
      ]
     },
     "execution_count": 124,
     "metadata": {},
     "output_type": "execute_result"
    }
   ],
   "source": [
    "### load data set\n",
    "\n",
    "df = pd.read_excel('weight-height.xlsx')\n",
    "df.head()"
   ]
  },
  {
   "cell_type": "code",
   "execution_count": 125,
   "id": "b828c4e4",
   "metadata": {},
   "outputs": [
    {
     "data": {
      "text/html": [
       "<div>\n",
       "<style scoped>\n",
       "    .dataframe tbody tr th:only-of-type {\n",
       "        vertical-align: middle;\n",
       "    }\n",
       "\n",
       "    .dataframe tbody tr th {\n",
       "        vertical-align: top;\n",
       "    }\n",
       "\n",
       "    .dataframe thead th {\n",
       "        text-align: right;\n",
       "    }\n",
       "</style>\n",
       "<table border=\"1\" class=\"dataframe\">\n",
       "  <thead>\n",
       "    <tr style=\"text-align: right;\">\n",
       "      <th></th>\n",
       "      <th>Gender</th>\n",
       "      <th>Height</th>\n",
       "      <th>Weight</th>\n",
       "    </tr>\n",
       "  </thead>\n",
       "  <tbody>\n",
       "    <tr>\n",
       "      <th>0</th>\n",
       "      <td>1</td>\n",
       "      <td>73.847017</td>\n",
       "      <td>241.893563</td>\n",
       "    </tr>\n",
       "    <tr>\n",
       "      <th>1</th>\n",
       "      <td>1</td>\n",
       "      <td>68.781904</td>\n",
       "      <td>162.310473</td>\n",
       "    </tr>\n",
       "    <tr>\n",
       "      <th>2</th>\n",
       "      <td>1</td>\n",
       "      <td>74.110105</td>\n",
       "      <td>212.740856</td>\n",
       "    </tr>\n",
       "    <tr>\n",
       "      <th>3</th>\n",
       "      <td>1</td>\n",
       "      <td>71.730978</td>\n",
       "      <td>220.042470</td>\n",
       "    </tr>\n",
       "    <tr>\n",
       "      <th>4</th>\n",
       "      <td>1</td>\n",
       "      <td>69.881796</td>\n",
       "      <td>206.349801</td>\n",
       "    </tr>\n",
       "  </tbody>\n",
       "</table>\n",
       "</div>"
      ],
      "text/plain": [
       "   Gender     Height      Weight\n",
       "0       1  73.847017  241.893563\n",
       "1       1  68.781904  162.310473\n",
       "2       1  74.110105  212.740856\n",
       "3       1  71.730978  220.042470\n",
       "4       1  69.881796  206.349801"
      ]
     },
     "execution_count": 125,
     "metadata": {},
     "output_type": "execute_result"
    }
   ],
   "source": [
    "### Encoding to convert categorical values into numeric values\n",
    "\n",
    "from sklearn.preprocessing import LabelEncoder\n",
    "le = LabelEncoder()\n",
    "\n",
    "df.Gender = le.fit_transform(df[['Gender']])\n",
    "df.head()"
   ]
  },
  {
   "cell_type": "code",
   "execution_count": 126,
   "id": "7d77a0be",
   "metadata": {},
   "outputs": [
    {
     "data": {
      "text/plain": [
       "Text(0, 0.5, 'Weight')"
      ]
     },
     "execution_count": 126,
     "metadata": {},
     "output_type": "execute_result"
    },
    {
     "data": {
      "image/png": "[encoded data removed]",
      "text/plain": [
       "<Figure size 640x480 with 1 Axes>"
      ]
     },
     "metadata": {},
     "output_type": "display_data"
    }
   ],
   "source": [
    "plt.scatter(df['Height'],df['Weight'], color = 'green')\n",
    "plt.xlabel('Height')\n",
    "plt.ylabel('Weight')"
   ]
  },
  {
   "cell_type": "code",
   "execution_count": 127,
   "id": "080bd978",
   "metadata": {},
   "outputs": [],
   "source": [
    "### Independent and dependent features\n",
    "\n",
    "''' \n",
    "Breakdown:\n",
    "\n",
    "X = df.iloc[:,:-1]:\n",
    "\n",
    "This line creates a new DataFrame named X.\n",
    "df.iloc: This selects rows and columns of df using integer-based indexing.\n",
    "[:,:-1]: This is the indexing expression for selecting features:\n",
    ": in the first position selects all rows (from the beginning to the end).\n",
    ":-1 in the second position selects all columns except the last one. This ensures you capture only the features (independent variables).\n",
    "y = df.iloc[:,-1]:\n",
    "\n",
    "This line creates a new variable named y.\n",
    "df.iloc: Similar to the first line, this uses integer-based indexing.\n",
    ": in the first position again selects all rows.\n",
    "-1 in the second position selects the last column of df. This is the target variable.\n",
    "'''\n",
    "\n",
    "X = df.iloc[:,:-1] ## independent features\n",
    "y = df.iloc[:,-1] ## dependent features"
   ]
  },
  {
   "cell_type": "markdown",
   "id": "9e2b52dd",
   "metadata": {},
   "source": [
    "## Applying Linear Regression"
   ]
  },
  {
   "cell_type": "code",
   "execution_count": 128,
   "id": "9fde6aa6",
   "metadata": {},
   "outputs": [],
   "source": [
    "from sklearn.linear_model import LinearRegression\n",
    "from sklearn.model_selection import train_test_split\n",
    "L_reg = LinearRegression()"
   ]
  },
  {
   "cell_type": "code",
   "execution_count": 131,
   "id": "73f8a54f",
   "metadata": {},
   "outputs": [],
   "source": [
    "### split data into 70% training 30% testing\n",
    "\n",
    "X_train, X_test, y_train, y_test = train_test_split(X,y, test_size = 0.3, random_state = 36)"
   ]
  },
  {
   "cell_type": "code",
   "execution_count": 132,
   "id": "06101255",
   "metadata": {},
   "outputs": [
    {
     "data": {
      "text/plain": [
       "LinearRegression()"
      ]
     },
     "execution_count": 132,
     "metadata": {},
     "output_type": "execute_result"
    }
   ],
   "source": [
    "L_reg.fit(X_train,y_train)"
   ]
  },
  {
   "cell_type": "code",
   "execution_count": 135,
   "id": "15286bce",
   "metadata": {},
   "outputs": [
    {
     "data": {
      "text/plain": [
       "array([133.75029231, 159.52700622, 188.80957238, ..., 192.89535053,\n",
       "       204.95633535, 131.62906264])"
      ]
     },
     "execution_count": 135,
     "metadata": {},
     "output_type": "execute_result"
    }
   ],
   "source": [
    "y_pred = L_reg.predict(X_test)\n",
    "y_pred"
   ]
  },
  {
   "cell_type": "markdown",
   "id": "7c966b87",
   "metadata": {},
   "source": [
    "## Cost function MSE and MAE for linear regression"
   ]
  },
  {
   "cell_type": "code",
   "execution_count": 136,
   "id": "073c5812",
   "metadata": {},
   "outputs": [],
   "source": [
    "from sklearn.metrics import mean_squared_error,mean_absolute_error"
   ]
  },
  {
   "cell_type": "code",
   "execution_count": 137,
   "id": "72dcd097",
   "metadata": {},
   "outputs": [
    {
     "name": "stdout",
     "output_type": "stream",
     "text": [
      "Testing MSE: 102.80163434764239\n"
     ]
    }
   ],
   "source": [
    "mse_Linear = mean_squared_error(y_test, y_pred)\n",
    "print(\"Testing MSE:\", mse_Linear)"
   ]
  },
  {
   "cell_type": "code",
   "execution_count": 138,
   "id": "15b171d8",
   "metadata": {},
   "outputs": [
    {
     "name": "stdout",
     "output_type": "stream",
     "text": [
      "Testing MAE: 8.867162210798597\n"
     ]
    }
   ],
   "source": [
    "mae_Linear = mean_absolute_error(y_test, y_pred)\n",
    "print(\"Testing MAE:\", mae)"
   ]
  },
  {
   "cell_type": "markdown",
   "id": "20277f47",
   "metadata": {},
   "source": [
    "## R-Squared for linear regression"
   ]
  },
  {
   "cell_type": "code",
   "execution_count": 139,
   "id": "46527e9b",
   "metadata": {},
   "outputs": [
    {
     "data": {
      "text/plain": [
       "0.900437206405488"
      ]
     },
     "execution_count": 139,
     "metadata": {},
     "output_type": "execute_result"
    }
   ],
   "source": [
    "L_reg.score(X_train,y_train)"
   ]
  },
  {
   "cell_type": "code",
   "execution_count": 140,
   "id": "c6a177d8",
   "metadata": {},
   "outputs": [
    {
     "data": {
      "text/plain": [
       "0.8986568170075826"
      ]
     },
     "execution_count": 140,
     "metadata": {},
     "output_type": "execute_result"
    }
   ],
   "source": [
    "L_reg.score(X_test,y_test)"
   ]
  },
  {
   "cell_type": "code",
   "execution_count": 141,
   "id": "de4d4f23",
   "metadata": {},
   "outputs": [
    {
     "data": {
      "image/png": "[encoded data removed]",
      "text/plain": [
       "<Figure size 640x480 with 1 Axes>"
      ]
     },
     "metadata": {},
     "output_type": "display_data"
    }
   ],
   "source": [
    "plt.scatter(X_train['Gender'], y_train, color='blue', label='Gender vs Weight')\n",
    "\n",
    "plt.scatter(X_train['Height'], y_train, color='green', label='Height vs Weight')\n",
    "plt.xlabel('Gender and Height')\n",
    "plt.ylabel('Weight')\n",
    "plt.title('Scatter Plot of Gender and Height vs Weight')\n",
    "plt.legend()\n",
    "plt.grid(True)\n",
    "plt.show()\n"
   ]
  },
  {
   "cell_type": "markdown",
   "id": "097a7f08",
   "metadata": {},
   "source": [
    "## Applying k-nearest neighbors (KNN)"
   ]
  },
  {
   "cell_type": "code",
   "execution_count": 142,
   "id": "62cc94f4",
   "metadata": {},
   "outputs": [],
   "source": [
    "from sklearn.neighbors import KNeighborsRegressor\n",
    "from sklearn.model_selection import train_test_split"
   ]
  },
  {
   "cell_type": "code",
   "execution_count": 143,
   "id": "c0bb29f7",
   "metadata": {},
   "outputs": [
    {
     "data": {
      "text/plain": [
       "KNeighborsRegressor()"
      ]
     },
     "execution_count": 143,
     "metadata": {},
     "output_type": "execute_result"
    }
   ],
   "source": [
    "KNN_reg = KNeighborsRegressor(n_neighbors=5,p=2) ## n_neighbors = 5 means it will take 5 nearest datapoint and p = euclidean distance\n",
    "KNN_reg"
   ]
  },
  {
   "cell_type": "code",
   "execution_count": 144,
   "id": "b131eedf",
   "metadata": {},
   "outputs": [],
   "source": [
    "### 70% training 30% testing\n",
    "\n",
    "X_train, X_test, y_train, y_test = train_test_split(X,y, test_size = 0.3, random_state = 36)"
   ]
  },
  {
   "cell_type": "code",
   "execution_count": 145,
   "id": "fc1d14ef",
   "metadata": {},
   "outputs": [
    {
     "data": {
      "text/plain": [
       "KNeighborsRegressor()"
      ]
     },
     "execution_count": 145,
     "metadata": {},
     "output_type": "execute_result"
    }
   ],
   "source": [
    "KNN_reg.fit(X_train,y_train)"
   ]
  },
  {
   "cell_type": "code",
   "execution_count": 146,
   "id": "6a5809cb",
   "metadata": {},
   "outputs": [
    {
     "data": {
      "text/plain": [
       "array([133.3184147 , 163.68543696, 188.98621688, ..., 187.9279176 ,\n",
       "       207.02697666, 129.65998002])"
      ]
     },
     "execution_count": 146,
     "metadata": {},
     "output_type": "execute_result"
    }
   ],
   "source": [
    "y_pred = KNN_reg.predict(X_test)\n",
    "y_pred"
   ]
  },
  {
   "cell_type": "markdown",
   "id": "75803ab6",
   "metadata": {},
   "source": [
    "# Cost function MSE and MAE for KNN"
   ]
  },
  {
   "cell_type": "code",
   "execution_count": 147,
   "id": "8e43ef83",
   "metadata": {},
   "outputs": [
    {
     "name": "stdout",
     "output_type": "stream",
     "text": [
      "Testing MSE: 127.53060215601928\n"
     ]
    }
   ],
   "source": [
    "mse_KNN = mean_squared_error(y_test, y_pred)\n",
    "print(\"Testing MSE:\", mse)"
   ]
  },
  {
   "cell_type": "code",
   "execution_count": 148,
   "id": "bc834dac",
   "metadata": {},
   "outputs": [
    {
     "name": "stdout",
     "output_type": "stream",
     "text": [
      "Testing MAE: 8.867162210798597\n"
     ]
    }
   ],
   "source": [
    "mae_KNN = mean_absolute_error(y_test, y_pred)\n",
    "print(\"Testing MAE:\", mae)"
   ]
  },
  {
   "cell_type": "markdown",
   "id": "0def272e",
   "metadata": {},
   "source": [
    "## R-Squared for KNN"
   ]
  },
  {
   "cell_type": "code",
   "execution_count": 149,
   "id": "8a8f4d16",
   "metadata": {},
   "outputs": [
    {
     "data": {
      "text/plain": [
       "0.9203457032351261"
      ]
     },
     "execution_count": 149,
     "metadata": {},
     "output_type": "execute_result"
    }
   ],
   "source": [
    "KNN_reg.score(X_train,y_train)"
   ]
  },
  {
   "cell_type": "code",
   "execution_count": 150,
   "id": "8c88556c",
   "metadata": {},
   "outputs": [
    {
     "data": {
      "text/plain": [
       "0.8742786801645138"
      ]
     },
     "execution_count": 150,
     "metadata": {},
     "output_type": "execute_result"
    }
   ],
   "source": [
    "KNN_reg.score(X_test,y_test)"
   ]
  },
  {
   "cell_type": "markdown",
   "id": "30e89b6e",
   "metadata": {},
   "source": [
    "# compering KNN and Linear Regression"
   ]
  },
  {
   "cell_type": "code",
   "execution_count": 151,
   "id": "75e19e27",
   "metadata": {},
   "outputs": [
    {
     "name": "stdout",
     "output_type": "stream",
     "text": [
      "linear y_prediction: [133.75029231 159.52700622 188.80957238 ... 192.89535053 204.95633535\n",
      " 131.62906264]\n",
      "KNN y_prediction: [133.3184147  163.68543696 188.98621688 ... 187.9279176  207.02697666\n",
      " 129.65998002]\n"
     ]
    }
   ],
   "source": [
    "y_pred = L_reg.predict(X_test) ### Linear regression\n",
    "print('linear y_prediction:',y_pred)\n",
    "y_pred = KNN_reg.predict(X_test) ### KNN\n",
    "print('KNN y_prediction:', y_pred)"
   ]
  },
  {
   "cell_type": "code",
   "execution_count": 152,
   "id": "702dd2a9",
   "metadata": {},
   "outputs": [
    {
     "data": {
      "text/plain": [
       "(KNeighborsRegressor(), LinearRegression())"
      ]
     },
     "execution_count": 152,
     "metadata": {},
     "output_type": "execute_result"
    }
   ],
   "source": [
    "KNN_reg.fit(X_train,y_train),L_reg.fit(X_train,y_train)"
   ]
  },
  {
   "cell_type": "code",
   "execution_count": 153,
   "id": "3b3d3cef",
   "metadata": {},
   "outputs": [
    {
     "name": "stdout",
     "output_type": "stream",
     "text": [
      "Testing MSE for KNN: 127.53060215601928\n",
      "Testing MSE for Linear regression: 102.80163434764239\n"
     ]
    }
   ],
   "source": [
    "y_pred = KNN_reg.predict(X_test)\n",
    "mse_KNN = mean_squared_error(y_test, y_pred)\n",
    "print(\"Testing MSE for KNN:\", mse)\n",
    "y_pred = L_reg.predict(X_test)\n",
    "mse_Linear = mean_squared_error(y_test, y_pred)\n",
    "print(\"Testing MSE for Linear regression:\", mse_Linear)"
   ]
  },
  {
   "cell_type": "markdown",
   "id": "9325b202",
   "metadata": {},
   "source": [
    "### as we can see Linear regression is performing better than KNN "
   ]
  },
  {
   "cell_type": "markdown",
   "id": "35135f7a",
   "metadata": {},
   "source": [
    "# KNN for Classification"
   ]
  },
  {
   "cell_type": "code",
   "execution_count": 154,
   "id": "5b14cfcc",
   "metadata": {},
   "outputs": [
    {
     "data": {
      "text/html": [
       "<div>\n",
       "<style scoped>\n",
       "    .dataframe tbody tr th:only-of-type {\n",
       "        vertical-align: middle;\n",
       "    }\n",
       "\n",
       "    .dataframe tbody tr th {\n",
       "        vertical-align: top;\n",
       "    }\n",
       "\n",
       "    .dataframe thead th {\n",
       "        text-align: right;\n",
       "    }\n",
       "</style>\n",
       "<table border=\"1\" class=\"dataframe\">\n",
       "  <thead>\n",
       "    <tr style=\"text-align: right;\">\n",
       "      <th></th>\n",
       "      <th>Gender</th>\n",
       "      <th>Height</th>\n",
       "      <th>Weight</th>\n",
       "    </tr>\n",
       "  </thead>\n",
       "  <tbody>\n",
       "    <tr>\n",
       "      <th>0</th>\n",
       "      <td>Male</td>\n",
       "      <td>73.847017</td>\n",
       "      <td>241.893563</td>\n",
       "    </tr>\n",
       "    <tr>\n",
       "      <th>1</th>\n",
       "      <td>Male</td>\n",
       "      <td>68.781904</td>\n",
       "      <td>162.310473</td>\n",
       "    </tr>\n",
       "    <tr>\n",
       "      <th>2</th>\n",
       "      <td>Male</td>\n",
       "      <td>74.110105</td>\n",
       "      <td>212.740856</td>\n",
       "    </tr>\n",
       "    <tr>\n",
       "      <th>3</th>\n",
       "      <td>Male</td>\n",
       "      <td>71.730978</td>\n",
       "      <td>220.042470</td>\n",
       "    </tr>\n",
       "    <tr>\n",
       "      <th>4</th>\n",
       "      <td>Male</td>\n",
       "      <td>69.881796</td>\n",
       "      <td>206.349801</td>\n",
       "    </tr>\n",
       "  </tbody>\n",
       "</table>\n",
       "</div>"
      ],
      "text/plain": [
       "  Gender     Height      Weight\n",
       "0   Male  73.847017  241.893563\n",
       "1   Male  68.781904  162.310473\n",
       "2   Male  74.110105  212.740856\n",
       "3   Male  71.730978  220.042470\n",
       "4   Male  69.881796  206.349801"
      ]
     },
     "execution_count": 154,
     "metadata": {},
     "output_type": "execute_result"
    }
   ],
   "source": [
    "df1 = pd.read_excel('weight-height.xlsx')\n",
    "df1.head()"
   ]
  },
  {
   "cell_type": "code",
   "execution_count": 155,
   "id": "d9ae21ea",
   "metadata": {},
   "outputs": [],
   "source": [
    "X = df1.iloc[:,1:3] ### Independent variables\n",
    "y = df1.iloc[:,0] ### dependent variables"
   ]
  },
  {
   "cell_type": "code",
   "execution_count": 156,
   "id": "d2f8f895",
   "metadata": {},
   "outputs": [],
   "source": [
    "from sklearn.neighbors import KNeighborsClassifier\n",
    "from sklearn.model_selection import train_test_split"
   ]
  },
  {
   "cell_type": "code",
   "execution_count": 157,
   "id": "1a970fe3",
   "metadata": {},
   "outputs": [
    {
     "data": {
      "text/plain": [
       "KNeighborsClassifier()"
      ]
     },
     "execution_count": 157,
     "metadata": {},
     "output_type": "execute_result"
    }
   ],
   "source": [
    "KNN_classifier = KNeighborsClassifier(n_neighbors=5,p=2)\n",
    "KNN_classifier"
   ]
  },
  {
   "cell_type": "code",
   "execution_count": 158,
   "id": "0e3c33e2",
   "metadata": {},
   "outputs": [],
   "source": [
    "X_train,X_test,y_train,y_test = train_test_split(X,y, test_size = 0.3, random_state = 30)"
   ]
  },
  {
   "cell_type": "code",
   "execution_count": 159,
   "id": "c286f435",
   "metadata": {},
   "outputs": [
    {
     "data": {
      "text/plain": [
       "KNeighborsClassifier()"
      ]
     },
     "execution_count": 159,
     "metadata": {},
     "output_type": "execute_result"
    }
   ],
   "source": [
    "KNN_classifier.fit(X_train,y_train)"
   ]
  },
  {
   "cell_type": "code",
   "execution_count": 160,
   "id": "488f9f27",
   "metadata": {},
   "outputs": [
    {
     "data": {
      "text/plain": [
       "array(['Male', 'Male', 'Male', ..., 'Female', 'Male', 'Female'],\n",
       "      dtype=object)"
      ]
     },
     "execution_count": 160,
     "metadata": {},
     "output_type": "execute_result"
    }
   ],
   "source": [
    "y_prediction = KNN_classifier.predict(X_test)\n",
    "y_prediction"
   ]
  },
  {
   "cell_type": "code",
   "execution_count": 161,
   "id": "b563a3a3",
   "metadata": {},
   "outputs": [
    {
     "name": "stdout",
     "output_type": "stream",
     "text": [
      "Accuracy: 0.905336969224776\n"
     ]
    }
   ],
   "source": [
    "from sklearn.metrics import accuracy_score\n",
    "\n",
    "y_prediction = KNN_classifier.predict(X_test)\n",
    "accuracy = accuracy_score(y_test, y_prediction)\n",
    "print(\"Accuracy:\", accuracy)"
   ]
  },
  {
   "cell_type": "code",
   "execution_count": null,
   "id": "e3e30e13",
   "metadata": {},
   "outputs": [],
   "source": []
  }
 ],
 "metadata": {
  "kernelspec": {
   "display_name": "Python 3 (ipykernel)",
   "language": "python",
   "name": "python3"
  },
  "language_info": {
   "codemirror_mode": {
    "name": "ipython",
    "version": 3
   },
   "file_extension": ".py",
   "mimetype": "text/x-python",
   "name": "python",
   "nbconvert_exporter": "python",
   "pygments_lexer": "ipython3",
   "version": "3.9.13"
  }
 },
 "nbformat": 4,
 "nbformat_minor": 5
}
