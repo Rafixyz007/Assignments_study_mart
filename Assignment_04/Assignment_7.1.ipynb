{
 "cells": [
  {
   "cell_type": "code",
   "execution_count": 97,
   "id": "574103c6",
   "metadata": {},
   "outputs": [],
   "source": [
    "import pandas as pd\n",
    "import numpy as np\n",
    "from matplotlib import pyplot as plt"
   ]
  },
  {
   "cell_type": "code",
   "execution_count": 98,
   "id": "2cf04209",
   "metadata": {},
   "outputs": [],
   "source": [
    "age = np.array([21,20,22,22,23,21,25,30,31]) ### independent feature\n",
    "income_K = np.array([60,55,60,61,65,62,65,70,68]) ### dependent feature"
   ]
  },
  {
   "cell_type": "code",
   "execution_count": 99,
   "id": "50bd2a49",
   "metadata": {},
   "outputs": [
    {
     "data": {
      "text/html": [
       "<div>\n",
       "<style scoped>\n",
       "    .dataframe tbody tr th:only-of-type {\n",
       "        vertical-align: middle;\n",
       "    }\n",
       "\n",
       "    .dataframe tbody tr th {\n",
       "        vertical-align: top;\n",
       "    }\n",
       "\n",
       "    .dataframe thead th {\n",
       "        text-align: right;\n",
       "    }\n",
       "</style>\n",
       "<table border=\"1\" class=\"dataframe\">\n",
       "  <thead>\n",
       "    <tr style=\"text-align: right;\">\n",
       "      <th></th>\n",
       "      <th>Age</th>\n",
       "      <th>Income_K</th>\n",
       "    </tr>\n",
       "  </thead>\n",
       "  <tbody>\n",
       "    <tr>\n",
       "      <th>0</th>\n",
       "      <td>21</td>\n",
       "      <td>60</td>\n",
       "    </tr>\n",
       "    <tr>\n",
       "      <th>1</th>\n",
       "      <td>20</td>\n",
       "      <td>55</td>\n",
       "    </tr>\n",
       "    <tr>\n",
       "      <th>2</th>\n",
       "      <td>22</td>\n",
       "      <td>60</td>\n",
       "    </tr>\n",
       "    <tr>\n",
       "      <th>3</th>\n",
       "      <td>22</td>\n",
       "      <td>61</td>\n",
       "    </tr>\n",
       "    <tr>\n",
       "      <th>4</th>\n",
       "      <td>23</td>\n",
       "      <td>65</td>\n",
       "    </tr>\n",
       "    <tr>\n",
       "      <th>5</th>\n",
       "      <td>21</td>\n",
       "      <td>62</td>\n",
       "    </tr>\n",
       "    <tr>\n",
       "      <th>6</th>\n",
       "      <td>25</td>\n",
       "      <td>65</td>\n",
       "    </tr>\n",
       "    <tr>\n",
       "      <th>7</th>\n",
       "      <td>30</td>\n",
       "      <td>70</td>\n",
       "    </tr>\n",
       "    <tr>\n",
       "      <th>8</th>\n",
       "      <td>31</td>\n",
       "      <td>68</td>\n",
       "    </tr>\n",
       "  </tbody>\n",
       "</table>\n",
       "</div>"
      ],
      "text/plain": [
       "   Age  Income_K\n",
       "0   21        60\n",
       "1   20        55\n",
       "2   22        60\n",
       "3   22        61\n",
       "4   23        65\n",
       "5   21        62\n",
       "6   25        65\n",
       "7   30        70\n",
       "8   31        68"
      ]
     },
     "execution_count": 99,
     "metadata": {},
     "output_type": "execute_result"
    }
   ],
   "source": [
    "df = pd.DataFrame({'Age':age, 'Income_K':income_K})\n",
    "df"
   ]
  },
  {
   "cell_type": "code",
   "execution_count": 100,
   "id": "81f9bf15",
   "metadata": {},
   "outputs": [
    {
     "data": {
      "text/plain": [
       "<matplotlib.collections.PathCollection at 0x1dad8086700>"
      ]
     },
     "execution_count": 100,
     "metadata": {},
     "output_type": "execute_result"
    },
    {
     "data": {
      "image/png": "[encoded data removed]",
      "text/plain": [
       "<Figure size 640x480 with 1 Axes>"
      ]
     },
     "metadata": {},
     "output_type": "display_data"
    }
   ],
   "source": [
    "plt.scatter(df['Age'],df['Income_K'])"
   ]
  },
  {
   "cell_type": "markdown",
   "id": "32242915",
   "metadata": {},
   "source": [
    "## Task 01:\n",
    "### Your objective is to implement the K-Nearest Neighbors (KNN) algorithm\n",
    "### with k=3. Use this algorithm to predict the income value, with the given\n",
    "### input value X=22."
   ]
  },
  {
   "cell_type": "code",
   "execution_count": 101,
   "id": "470aed42",
   "metadata": {},
   "outputs": [
    {
     "data": {
      "text/plain": [
       "KNeighborsRegressor(n_neighbors=3)"
      ]
     },
     "execution_count": 101,
     "metadata": {},
     "output_type": "execute_result"
    }
   ],
   "source": [
    "from sklearn.neighbors import KNeighborsRegressor\n",
    "KNN_reg = KNeighborsRegressor(n_neighbors=3)\n",
    "KNN_reg"
   ]
  },
  {
   "cell_type": "code",
   "execution_count": 102,
   "id": "f6d15739",
   "metadata": {},
   "outputs": [
    {
     "data": {
      "text/plain": [
       "KNeighborsRegressor(n_neighbors=3)"
      ]
     },
     "execution_count": 102,
     "metadata": {},
     "output_type": "execute_result"
    }
   ],
   "source": [
    "KNN_reg.fit(df[['Age']],df['Income_K'])"
   ]
  },
  {
   "cell_type": "code",
   "execution_count": 103,
   "id": "3a6f5098",
   "metadata": {},
   "outputs": [
    {
     "name": "stderr",
     "output_type": "stream",
     "text": [
      "D:\\setup software\\anaconda\\anaconda\\lib\\site-packages\\sklearn\\base.py:450: UserWarning: X does not have valid feature names, but KNeighborsRegressor was fitted with feature names\n",
      "  warnings.warn(\n"
     ]
    },
    {
     "data": {
      "text/plain": [
       "array([60.33333333])"
      ]
     },
     "execution_count": 103,
     "metadata": {},
     "output_type": "execute_result"
    }
   ],
   "source": [
    "KNN_regression_pred = KNN_reg.predict([[22]])\n",
    "KNN_regression_pred"
   ]
  },
  {
   "cell_type": "code",
   "execution_count": 104,
   "id": "e9e1bb79",
   "metadata": {},
   "outputs": [
    {
     "data": {
      "text/plain": [
       "0.7401315789473687"
      ]
     },
     "execution_count": 104,
     "metadata": {},
     "output_type": "execute_result"
    }
   ],
   "source": [
    "KNN_score = KNN_reg.score(df[['Age']],df['Income_K'])\n",
    "KNN_score"
   ]
  },
  {
   "cell_type": "markdown",
   "id": "b0d8c76b",
   "metadata": {},
   "source": [
    "### KNN manual calculations."
   ]
  },
  {
   "cell_type": "code",
   "execution_count": 105,
   "id": "642472ee",
   "metadata": {},
   "outputs": [
    {
     "name": "stdout",
     "output_type": "stream",
     "text": [
      "Nearest neighbors for age 22: [(22, 60), (22, 61), (21, 60)]\n",
      "Predicted income for age 22: 60.333333333333336\n"
     ]
    }
   ],
   "source": [
    "age = np.array([21, 20, 22, 22, 23, 21, 25, 30, 31])\n",
    "income_K = np.array([60, 55, 60, 61, 65, 62, 65, 70, 68])\n",
    "\n",
    "age_to_predict = 22\n",
    "reference_point = (age_to_predict, 0)  # Use (22, 0) as a placeholder for the distance calculation\n",
    "k = 3\n",
    "\n",
    "def euclidean_distance(p1, p2):\n",
    "    \"\"\"Calculates the Euclidean distance between two data points (p1 and p2).\n",
    "\n",
    "    Args:\n",
    "        p1 (tuple or list): The first data point.\n",
    "        p2 (tuple or list): The second data point.\n",
    "\n",
    "    Returns:\n",
    "        float: The Euclidean distance between p1 and p2.\n",
    "    \"\"\"\n",
    "    squared_differences = np.sum((np.array(p1) - np.array(p2)) ** 2)\n",
    "    return np.sqrt(squared_differences)\n",
    "\n",
    "# Calculate the distances from the reference point to each data point using age only\n",
    "distances = []\n",
    "for point in zip(age, income_K):\n",
    "    distance = euclidean_distance((age_to_predict,), (point[0],))\n",
    "    distances.append(distance)\n",
    "\n",
    "sorted_data = sorted(zip(distances, age, income_K), key=lambda x: x[0])\n",
    "\n",
    "# Select the top k nearest neighbors\n",
    "nearest_neighbors = sorted_data[:k]\n",
    "\n",
    "# Extract the ages and incomes of the nearest neighbors\n",
    "neighbor_incomes = [income for _, _, income in nearest_neighbors]\n",
    "\n",
    "# Predict the income by averaging the incomes of the nearest neighbors\n",
    "predicted_income = np.mean(neighbor_incomes)\n",
    "\n",
    "print(\"Nearest neighbors for age 22:\", [(a, inc) for _, a, inc in nearest_neighbors])\n",
    "print(\"Predicted income for age 22:\", predicted_income)"
   ]
  },
  {
   "cell_type": "markdown",
   "id": "adf259ec",
   "metadata": {},
   "source": [
    "# Linear Regression"
   ]
  },
  {
   "cell_type": "code",
   "execution_count": 106,
   "id": "7ab9387b",
   "metadata": {},
   "outputs": [],
   "source": [
    "from sklearn.linear_model import LinearRegression\n",
    "L_reg = LinearRegression()"
   ]
  },
  {
   "cell_type": "code",
   "execution_count": 107,
   "id": "f5379704",
   "metadata": {},
   "outputs": [
    {
     "data": {
      "text/plain": [
       "LinearRegression()"
      ]
     },
     "execution_count": 107,
     "metadata": {},
     "output_type": "execute_result"
    }
   ],
   "source": [
    "L_reg.fit(df[['Age']],df['Income_K'])"
   ]
  },
  {
   "cell_type": "code",
   "execution_count": 108,
   "id": "bb5cfac9",
   "metadata": {},
   "outputs": [
    {
     "name": "stderr",
     "output_type": "stream",
     "text": [
      "D:\\setup software\\anaconda\\anaconda\\lib\\site-packages\\sklearn\\base.py:450: UserWarning: X does not have valid feature names, but LinearRegression was fitted with feature names\n",
      "  warnings.warn(\n"
     ]
    },
    {
     "data": {
      "text/plain": [
       "array([60.97068966])"
      ]
     },
     "execution_count": 108,
     "metadata": {},
     "output_type": "execute_result"
    }
   ],
   "source": [
    "Linear_regression_pred = L_reg.predict([[22]])\n",
    "Linear_regression_pred"
   ]
  },
  {
   "cell_type": "code",
   "execution_count": 109,
   "id": "dd652db8",
   "metadata": {},
   "outputs": [
    {
     "data": {
      "text/plain": [
       "0.7870258620689655"
      ]
     },
     "execution_count": 109,
     "metadata": {},
     "output_type": "execute_result"
    }
   ],
   "source": [
    "Linear_score = L_reg.score(df[['Age']],df['Income_K'])\n",
    "Linear_score"
   ]
  },
  {
   "cell_type": "markdown",
   "id": "705edc67",
   "metadata": {},
   "source": [
    "# Final Task: Generate an Excel spreadsheet for a provided dataset.\n",
    "\n",
    "### Use Python programming to validate the KNN calculations.\n",
    "### Additionally, compare the predicted outcomes of the KNN algorithm\n",
    "### with Linear Regression results. Creating Excel File"
   ]
  },
  {
   "cell_type": "code",
   "execution_count": 121,
   "id": "34e826e0",
   "metadata": {},
   "outputs": [],
   "source": [
    "age_to_predict = 22\n",
    "\n",
    "# Create DataFrame for predictions\n",
    "predictions_df = pd.DataFrame({\n",
    "    'Age': [age_to_predict],  # Making a list with one element to match the length of other columns\n",
    "    'Income_K': [None],  # Actual income is not provided for the given age\n",
    "    'KNN_Prediction': KNN_regression_pred,\n",
    "    'Linear_Regression_Prediction': Linear_regression_pred,\n",
    "    'Linear_score': Linear_score,\n",
    "    'KNN_score': KNN_score,\n",
    "    'Compare KNN and Linear': ['in this case Linear is better than KNN']\n",
    "})\n",
    "\n",
    "# Concatenate the original DataFrame 'df' with 'predictions_df'\n",
    "df_with_predictions = pd.concat([df, predictions_df], ignore_index=True)\n",
    "\n",
    "# Save DataFrame with predictions to Excel spreadsheet\n",
    "df_with_predictions.to_excel(\"predictions_with_dataset.xlsx\", index=False)\n",
    "\n"
   ]
  },
  {
   "cell_type": "code",
   "execution_count": null,
   "id": "4f237e12",
   "metadata": {},
   "outputs": [],
   "source": []
  },
  {
   "cell_type": "code",
   "execution_count": null,
   "id": "82c28827",
   "metadata": {},
   "outputs": [],
   "source": []
  }
 ],
 "metadata": {
  "kernelspec": {
   "display_name": "Python 3 (ipykernel)",
   "language": "python",
   "name": "python3"
  },
  "language_info": {
   "codemirror_mode": {
    "name": "ipython",
    "version": 3
   },
   "file_extension": ".py",
   "mimetype": "text/x-python",
   "name": "python",
   "nbconvert_exporter": "python",
   "pygments_lexer": "ipython3",
   "version": "3.9.13"
  }
 },
 "nbformat": 4,
 "nbformat_minor": 5
}
