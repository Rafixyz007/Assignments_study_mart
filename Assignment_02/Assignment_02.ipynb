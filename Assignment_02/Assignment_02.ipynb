{
 "cells": [
  {
   "cell_type": "markdown",
   "id": "f92d0fc2",
   "metadata": {},
   "source": [
    "## Basic Problems:"
   ]
  },
  {
   "cell_type": "code",
   "execution_count": 1,
   "id": "08bc3ced",
   "metadata": {},
   "outputs": [
    {
     "name": "stdout",
     "output_type": "stream",
     "text": [
      "before swapping: x = 10 y = 20\n",
      "after swapping: x = 20 y = 10\n"
     ]
    }
   ],
   "source": [
    "### 1. Variable Swap: Write a Python program to swap the values of two variables without using a temporary variable.\n",
    "\n",
    "x = 10\n",
    "y = 20\n",
    "\n",
    "print(\"before swapping:\",\"x =\",x,\"y =\",y)\n",
    "\n",
    "x,y = y,x\n",
    "\n",
    "print(\"after swapping:\",\"x =\",x, \"y =\",y)"
   ]
  },
  {
   "cell_type": "code",
   "execution_count": 2,
   "id": "f7640385",
   "metadata": {},
   "outputs": [
    {
     "name": "stdout",
     "output_type": "stream",
     "text": [
      "Enter a number to check even or odd:\n",
      "4\n"
     ]
    },
    {
     "data": {
      "text/plain": [
       "['4 is even)']"
      ]
     },
     "execution_count": 2,
     "metadata": {},
     "output_type": "execute_result"
    }
   ],
   "source": [
    "### 2. Even or Odd: Write a Python program that takes an integer as input and prints whether it is even or odd.\n",
    "\n",
    "num = int(input(\"Enter a number to check even or odd:\\n\"))\n",
    "\n",
    "[f\"{num} is even)\" if num%2==0 else f\"{num} is odd\"]"
   ]
  },
  {
   "cell_type": "code",
   "execution_count": 3,
   "id": "50a01941",
   "metadata": {},
   "outputs": [
    {
     "name": "stdout",
     "output_type": "stream",
     "text": [
      "enter a string to reverse:\n",
      "study mart\n",
      "\n",
      "Original string: study mart\n",
      "\n",
      "Reversed string: tram yduts\n"
     ]
    }
   ],
   "source": [
    "### 3. String Reverse: Write a Python function to reverse a given string and return the reversed string.\n",
    "\n",
    "user_input = input(\"enter a string to reverse:\\n\")\n",
    "\n",
    "def reverse_string (user_input):\n",
    "    return user_input[::-1]\n",
    "\n",
    "reversed_string = reverse_string(user_input)\n",
    "print(\"\\nOriginal string:\", user_input)\n",
    "print(\"\\nReversed string:\", reversed_string)\n"
   ]
  },
  {
   "cell_type": "code",
   "execution_count": 4,
   "id": "ba16659c",
   "metadata": {},
   "outputs": [
    {
     "name": "stdout",
     "output_type": "stream",
     "text": [
      "\n",
      "Original list of integers: [1, 2, 3, 4, 5, 6, 7, 8, 9]\n",
      "\n",
      "List of strings: ['1', '2', '3', '4', '5', '6', '7', '8', '9']\n"
     ]
    }
   ],
   "source": [
    "### 4. Type Conversion: Given a list of integers, write a Python program to convert each element of the list to a string.\n",
    "\n",
    "integers = [1,2,3,4,5,6,7,8,9]\n",
    "\n",
    "str_list = [str(integer) for integer in integers]\n",
    "\n",
    "print(\"\\nOriginal list of integers:\", integers)\n",
    "print(\"\\nList of strings:\", str_list)\n"
   ]
  },
  {
   "cell_type": "code",
   "execution_count": 5,
   "id": "8d947f90",
   "metadata": {},
   "outputs": [
    {
     "name": "stdout",
     "output_type": "stream",
     "text": [
      "Enter a celsius temperature:\n",
      "23\n",
      "23.0 degree celsius is = 73.4 fahrenheit\n"
     ]
    }
   ],
   "source": [
    "### 5. Temperature Converter: Write a Python program that converts a temperature in Celsius to Fahrenheit. Take the Celsius temperature as input from the user.\n",
    "\n",
    "user_input = float(input(\"Enter a celsius temperature:\\n\"))  ### celsius tp fahrenheit\n",
    "\n",
    "fahrenheit = round((9/5*user_input)+32,3)\n",
    "\n",
    "print(f\"{user_input} degree celsius is = {fahrenheit} fahrenheit\")"
   ]
  },
  {
   "cell_type": "code",
   "execution_count": 6,
   "id": "69d3d74e",
   "metadata": {},
   "outputs": [
    {
     "name": "stdout",
     "output_type": "stream",
     "text": [
      "Enter a fahremheit temperature:\n",
      "23\n",
      "23.0 fahrenheit is = -5.0 degree celsius\n"
     ]
    }
   ],
   "source": [
    "### fahrenheit to celsius\n",
    "\n",
    "user_input = float(input(\"Enter a fahremheit temperature:\\n\"))\n",
    "\n",
    "celsius = round(5/9*(user_input-32),3)\n",
    "\n",
    "print(f\"{user_input} fahrenheit is = {celsius} degree celsius\")"
   ]
  },
  {
   "cell_type": "code",
   "execution_count": 9,
   "id": "5647d59c",
   "metadata": {},
   "outputs": [
    {
     "name": "stdout",
     "output_type": "stream",
     "text": [
      "Enter a variable: 12\n",
      "Data type: int\n"
     ]
    }
   ],
   "source": [
    "### 6. Data Type Checker: Write a Python function that takes a variable as input and returns the data type of the variable as a string (e.g., “int”, “float”, “str”, “list”, etc.).\n",
    "\n",
    "def data_type_checker():\n",
    "    try:\n",
    "        user_input = input(\"Enter a variable: \")\n",
    "        if user_input.lower() == 'true' or user_input.lower() == 'false':\n",
    "            return 'bool'\n",
    "        else:\n",
    "            return str(type(eval(user_input)).__name__).lower()\n",
    "    except:\n",
    "        print('please enter a valid variable')\n",
    "print(\"Data type:\", data_type_checker())\n"
   ]
  },
  {
   "cell_type": "code",
   "execution_count": 11,
   "id": "7cc1616c",
   "metadata": {},
   "outputs": [],
   "source": [
    "### 7. String Palindrome: Write a Python function to check if a given string is a palindrome or not.\n",
    "\n",
    "def is_palindrome(s):\n",
    "    if isinstance(s, int):  # Check if input is an integer\n",
    "        s = str(s)\n",
    "    s = s.replace(\" \", \"\").lower()\n",
    "    if s == s[::-1]:\n",
    "        return \"Your input '{}' is a palindrome.\".format(s)\n",
    "    else:\n",
    "        return \"Your input '{}' is not a palindrome.\".format(s)"
   ]
  },
  {
   "cell_type": "code",
   "execution_count": 12,
   "id": "950fbbaa",
   "metadata": {},
   "outputs": [
    {
     "data": {
      "text/plain": [
       "\"Your input '121' is a palindrome.\""
      ]
     },
     "execution_count": 12,
     "metadata": {},
     "output_type": "execute_result"
    }
   ],
   "source": [
    "is_palindrome(121)"
   ]
  },
  {
   "cell_type": "code",
   "execution_count": 13,
   "id": "e0538930",
   "metadata": {},
   "outputs": [
    {
     "name": "stdout",
     "output_type": "stream",
     "text": [
      "Original string: hello\n",
      "Reversed string: olleh\n"
     ]
    }
   ],
   "source": [
    "### 8. String Reversal with Slicing: Write a Python function to reverse a given string using slicing.\n",
    "\n",
    "def reverse_string(s):\n",
    "    return s[::-1]\n",
    "\n",
    "original_string = \"hello\"\n",
    "reversed_string = reverse_string(original_string)\n",
    "print(\"Original string:\", original_string)\n",
    "print(\"Reversed string:\", reversed_string)\n"
   ]
  },
  {
   "cell_type": "code",
   "execution_count": 14,
   "id": "97c24845",
   "metadata": {},
   "outputs": [
    {
     "data": {
      "text/plain": [
       "'tram yduts'"
      ]
     },
     "execution_count": 14,
     "metadata": {},
     "output_type": "execute_result"
    }
   ],
   "source": [
    "reverse_string('study mart')"
   ]
  },
  {
   "cell_type": "code",
   "execution_count": 15,
   "id": "cd6ed4cf",
   "metadata": {},
   "outputs": [
    {
     "name": "stdout",
     "output_type": "stream",
     "text": [
      "Concatenated string: Study Mart\n"
     ]
    }
   ],
   "source": [
    "### 9. String Concatenation: Write a Python program that takes two strings as input and concatenates them into a single string without using the `+` operator.\n",
    "\n",
    "def concatenate_strings(str1, str2):\n",
    "    return \"{} {}\".format(str1, str2)\n",
    "\n",
    "string1 = \"Study\"\n",
    "string2 = \"Mart\"\n",
    "concatenated_string = concatenate_strings(string1, string2)\n",
    "print(\"Concatenated string:\", concatenated_string)\n"
   ]
  },
  {
   "cell_type": "code",
   "execution_count": 16,
   "id": "310d39c1",
   "metadata": {},
   "outputs": [
    {
     "data": {
      "text/plain": [
       "'study mart'"
      ]
     },
     "execution_count": 16,
     "metadata": {},
     "output_type": "execute_result"
    }
   ],
   "source": [
    "concatenate_strings('study','mart')"
   ]
  },
  {
   "cell_type": "code",
   "execution_count": 17,
   "id": "3203b1f2",
   "metadata": {},
   "outputs": [
    {
     "name": "stdout",
     "output_type": "stream",
     "text": [
      "<class 'str'>\n",
      "114.5 is the answer.\n"
     ]
    }
   ],
   "source": [
    "### 10. Typecasting Challenge: Given three variables: `a = ‘100’`, `b = 25`, and `c = ‘10.5’`, write a Python program to perform the following operations and print the results: – Convert `a` to an integer and add it to `b`. – Convert `c` to a float and subtract it from the result of the first operation. – Convert the final result to a string and concatenate it with the string ” is the answer.”\n",
    "\n",
    "a = '100'\n",
    "b = 25\n",
    "c = '10.5'\n",
    "\n",
    "result = int(a) + b\n",
    "\n",
    "final_result = result - float(c)\n",
    "\n",
    "answer = str(final_result) + \" is the answer.\"\n",
    "\n",
    "print(type(answer))\n",
    "print(answer)\n"
   ]
  },
  {
   "cell_type": "markdown",
   "id": "7bc82529",
   "metadata": {},
   "source": [
    "## Python Conditional Statements:"
   ]
  },
  {
   "cell_type": "code",
   "execution_count": 19,
   "id": "3e7e2385",
   "metadata": {},
   "outputs": [
    {
     "name": "stdout",
     "output_type": "stream",
     "text": [
      "Enter a number: 1\n",
      "The number is positive.\n"
     ]
    }
   ],
   "source": [
    "### 11. Positive, Negative, or Zero: Write a Python program that takes a number as input and prints whether it is positive, negative, or zero.\n",
    "\n",
    "\n",
    "try:\n",
    "    num = float(input(\"Enter a number: \"))\n",
    "    \n",
    "    if num > 0:\n",
    "        print(\"The number is positive.\")\n",
    "\n",
    "    elif num < 0:\n",
    "        print(\"The number is negative.\")\n",
    "    else:\n",
    "        print(\"The number is zero.\")\n",
    "except:\n",
    "    print(\"enter a valid number\")\n"
   ]
  },
  {
   "cell_type": "code",
   "execution_count": 20,
   "id": "9cebe96b",
   "metadata": {},
   "outputs": [
    {
     "name": "stdout",
     "output_type": "stream",
     "text": [
      "Enter the first number: 1\n",
      "Enter the second number: 2\n",
      "Enter the third number: 3\n",
      "The largest number is: 3.0\n"
     ]
    }
   ],
   "source": [
    "### 12. Largest of Three Numbers: Write a Python program that takes three numbers as input and prints the largest among them.\n",
    "\n",
    "try:\n",
    "    \n",
    "    num1 = float(input(\"Enter the first number: \"))\n",
    "    num2 = float(input(\"Enter the second number: \"))\n",
    "    num3 = float(input(\"Enter the third number: \"))\n",
    "\n",
    "    largest_number = num1\n",
    "\n",
    "    if num2 > largest_number:\n",
    "        largest_number = num2\n",
    "    if num3 > largest_number:\n",
    "        largest_number = num3\n",
    "\n",
    "    print(\"The largest number is:\", largest_number)\n",
    "    \n",
    "except:\n",
    "    print(\"enter integer or float number\")\n"
   ]
  },
  {
   "cell_type": "code",
   "execution_count": 21,
   "id": "b50cec59",
   "metadata": {},
   "outputs": [
    {
     "name": "stdout",
     "output_type": "stream",
     "text": [
      "Enter a year to check if it's a leap year or not:\n",
      "1892\n",
      "1892 is a leap year\n"
     ]
    }
   ],
   "source": [
    "### 13. Leap Year Checker: Write a Python program that takes a year as input and determines if it is a leap year or not.\n",
    "\n",
    "try:\n",
    "    year = int(input(\"Enter a year to check if it's a leap year or not:\\n\"))\n",
    "\n",
    "    if (year % 4 == 0 and year % 100 != 0) or (year % 400 == 0):\n",
    "        print(year, \"is a leap year\")\n",
    "    else:\n",
    "        print(year, \"is not a leap year\")\n",
    "\n",
    "except ValueError:\n",
    "    print(\"Enter a valid year\")\n"
   ]
  },
  {
   "cell_type": "code",
   "execution_count": 22,
   "id": "4395b7da",
   "metadata": {},
   "outputs": [
    {
     "name": "stdout",
     "output_type": "stream",
     "text": [
      "Enter the student's percentage: 66\n",
      "The student's grade is: C\n"
     ]
    }
   ],
   "source": [
    "### 14. Grades Classification: Write a Python program that takes a student’s percentage as input and prints their corresponding grade according to the following criteria: – 90% or above: A+ – 80-89%: A – 70-79%: B – 60-69%: C – Below 60%: Fail\n",
    "\n",
    "try:\n",
    "    percentage = float(input(\"Enter the student's percentage: \"))\n",
    "    if 0<= percentage <= 100:\n",
    "        \n",
    "        if percentage >= 90:\n",
    "            grade = 'A+'\n",
    "        elif percentage >= 80:\n",
    "            grade = 'A'\n",
    "        elif percentage >= 70:\n",
    "            grade = 'B'\n",
    "        elif percentage >= 60:\n",
    "            grade = 'C'\n",
    "        else:\n",
    "            grade = 'Fail'\n",
    "        print(\"The student's grade is:\", grade)\n",
    "    else:\n",
    "        print(\"Please enter a percentage between 0 and 100.\")\n",
    "\n",
    "except ValueError:\n",
    "    print(\"Please enter a valid percentage.\")\n"
   ]
  },
  {
   "cell_type": "code",
   "execution_count": 23,
   "id": "31bf7461",
   "metadata": {},
   "outputs": [
    {
     "name": "stdout",
     "output_type": "stream",
     "text": [
      "Enter a single character: a\n",
      "The character 'a' is a vowel.\n"
     ]
    }
   ],
   "source": [
    "### 15. Vowel or Consonant: Write a Python program that takes a single character as input and determines whether it is a vowel or a consonant.\n",
    "\n",
    "try:\n",
    "    char = input(\"Enter a single character: \")\n",
    "\n",
    "    if len(char) != 1:\n",
    "        print(\"Please enter only a single character.\")\n",
    "    elif char.lower() in 'aeiou':\n",
    "        print(\"The character '{}' is a vowel.\".format(char))\n",
    "    elif char.isalpha():\n",
    "        print(\"The character '{}' is a consonant.\".format(char))\n",
    "    else:\n",
    "        print(\"Please enter a valid alphabetic character.\")\n",
    "\n",
    "except ValueError:\n",
    "    print(\"Please enter a valid character.\")\n"
   ]
  },
  {
   "cell_type": "code",
   "execution_count": 24,
   "id": "c2af7755",
   "metadata": {},
   "outputs": [
    {
     "name": "stdout",
     "output_type": "stream",
     "text": [
      "Enter the time in hours (24-hour format): 12\n",
      "Good Afternoon\n"
     ]
    }
   ],
   "source": [
    "### 16. Time Classification: Write a Python program that takes the time in hours (24-hour format) as input and prints “Good Morning”, “Good Afternoon”, “Good Evening”, or “Good Night” based on the time.\n",
    "\n",
    "try:\n",
    "    hour = int(input(\"Enter the time in hours (24-hour format): \"))\n",
    "\n",
    "    if 5 <= hour < 12:\n",
    "        print(\"Good Morning\")\n",
    "    elif 12 <= hour < 17:\n",
    "        print(\"Good Afternoon\")\n",
    "    elif 17 <= hour < 20:\n",
    "        print(\"Good Evening\")\n",
    "    elif 20 <= hour < 24:\n",
    "        print(\"Good Night\")\n",
    "    elif 0 <= hour < 5:\n",
    "        print(\"late night / early morning\")\n",
    "    else:\n",
    "        print(\"Please enter a valid time in hours.\")\n",
    "\n",
    "except ValueError:\n",
    "    print(\"Please enter a valid time in hours.\")\n"
   ]
  },
  {
   "cell_type": "code",
   "execution_count": 25,
   "id": "061e9d6b",
   "metadata": {},
   "outputs": [
    {
     "name": "stdout",
     "output_type": "stream",
     "text": [
      "Enter the length of side 1: 1\n",
      "Enter the length of side 2: 2\n",
      "Enter the length of side 3: 3\n",
      "The triangle is a scalene triangle.\n"
     ]
    }
   ],
   "source": [
    "### 17. Triangle Type Checker: Write a Python program that takes three sides of a triangle as input and determines whether it forms an equilateral, isosceles, or scalene triangle.\n",
    "\n",
    "\n",
    "try:\n",
    "    side1 = float(input(\"Enter the length of side 1: \"))\n",
    "    side2 = float(input(\"Enter the length of side 2: \"))\n",
    "    side3 = float(input(\"Enter the length of side 3: \"))\n",
    "    \n",
    "    if side1 <= 0 or side2 <= 0 or side3 <= 0:\n",
    "        print('Please enter positive lengths for all sides of the triangle.')\n",
    "    else:\n",
    "        if side1 == side2 == side3:\n",
    "            print(\"The triangle is an equilateral triangle.\")\n",
    "        elif side1 == side2 or side1 == side3 or side2 == side3:\n",
    "            print(\"The triangle is an isosceles triangle.\")\n",
    "        else:\n",
    "            print(\"The triangle is a scalene triangle.\")\n",
    "\n",
    "except ValueError:\n",
    "    print(\"Please enter valid lengths for the sides of the triangle.\")\n"
   ]
  },
  {
   "cell_type": "code",
   "execution_count": 27,
   "id": "b2c6a442",
   "metadata": {},
   "outputs": [
    {
     "name": "stdout",
     "output_type": "stream",
     "text": [
      "Enter the coefficient 'a': 2\n",
      "Enter the coefficient 'b': 4\n",
      "Enter the coefficient 'c': 5\n",
      "The roots are complex:\n",
      "Root 1: -1.0 + 1.224744871391589 i\n",
      "Root 2: -1.0 - 1.224744871391589 i\n"
     ]
    }
   ],
   "source": [
    "### 18. Quadratic Equation Solver: Write a Python program that takes the coefficients (a, b, c) of a quadratic equation as input and calculates and prints the real roots (if they exist) or a message indicating the complex roots.\n",
    "\n",
    "try:\n",
    "    a = float(input(\"Enter the coefficient 'a': \"))\n",
    "    b = float(input(\"Enter the coefficient 'b': \"))\n",
    "    c = float(input(\"Enter the coefficient 'c': \"))\n",
    "\n",
    "\n",
    "    discriminant = b**2 - 4*a*c\n",
    "\n",
    "    if discriminant > 0:\n",
    "        root1 = (-b + discriminant**0.5) / (2*a)\n",
    "        root2 = (-b - discriminant**0.5) / (2*a)\n",
    "        print(\"The roots are real and distinct:\")\n",
    "        print(\"Root 1:\", root1)\n",
    "        print(\"Root 2:\", root2)\n",
    "    elif discriminant == 0:\n",
    "        root = -b / (2*a)\n",
    "        print(\"The roots are real and equal:\")\n",
    "        print(\"Root:\", root)\n",
    "    else:\n",
    "        real_part = -b / (2*a)\n",
    "        imaginary_part = abs(discriminant)**0.5 / (2*a)\n",
    "        print(\"The roots are complex:\")\n",
    "        print(\"Root 1:\", real_part, \"+\", imaginary_part, \"i\")\n",
    "        print(\"Root 2:\", real_part, \"-\", imaginary_part, \"i\")\n",
    "\n",
    "except ValueError:\n",
    "    print(\"Please enter valid coefficients (numeric values).\")\n"
   ]
  },
  {
   "cell_type": "code",
   "execution_count": 28,
   "id": "2273e9a8",
   "metadata": {},
   "outputs": [
    {
     "name": "stdout",
     "output_type": "stream",
     "text": [
      "Enter an integer: 12\n",
      "The number falls within the range 0-50.\n"
     ]
    }
   ],
   "source": [
    "### 19. Number Ranges: Write a Python program that takes an integer as input and prints whether the number falls within the ranges: 0-50, 51-100, 101-150, or above 150.\n",
    "\n",
    "try:\n",
    "    \n",
    "    num = int(input(\"Enter an integer: \"))\n",
    "    if num < 0:\n",
    "        print(\"enter a positive number\")\n",
    "    elif 0 <= num <= 50:\n",
    "        print(\"The number falls within the range 0-50.\")\n",
    "    elif 51 <= num <= 100:\n",
    "        print(\"The number falls within the range 51-100.\")\n",
    "    elif 101 <= num <= 150:\n",
    "        print(\"The number falls within the range 101-150.\")\n",
    "    else:\n",
    "        print(\"The number is above 150.\")\n",
    "except ValueError:\n",
    "    print(\"Please enter a valid integer.\")\n"
   ]
  },
  {
   "cell_type": "markdown",
   "id": "5eed5a6b",
   "metadata": {},
   "source": [
    "## For & While Loops:"
   ]
  },
  {
   "cell_type": "code",
   "execution_count": 29,
   "id": "a519109a",
   "metadata": {},
   "outputs": [
    {
     "name": "stdout",
     "output_type": "stream",
     "text": [
      "Enter a positive integer: 12\n",
      "The sum of the first 12 natural numbers is: 78\n"
     ]
    }
   ],
   "source": [
    "### 20. Sum of N Numbers: Write a Python program using a for loop to calculate the sum of the first N natural numbers, where N is taken as input from the user.\n",
    "\n",
    "try:\n",
    "    \n",
    "    n = int(input(\"Enter a positive integer: \"))\n",
    "    if n <=0:\n",
    "        print(\"enter a value greater than 0\")\n",
    "    \n",
    "    else:\n",
    "        total_sum = 0\n",
    "        for i in range(1, n + 1):\n",
    "            total_sum += i\n",
    "\n",
    "        print(\"The sum of the first\", n, \"natural numbers is:\", total_sum)\n",
    "\n",
    "except ValueError:\n",
    "    print(\"Please enter a valid positive integer.\")\n"
   ]
  },
  {
   "cell_type": "code",
   "execution_count": 30,
   "id": "7f693549",
   "metadata": {},
   "outputs": [
    {
     "name": "stdout",
     "output_type": "stream",
     "text": [
      "Enter a non-negative integer: 34\n",
      "The factorial of 34 is: 295232799039604140847618609643520000000\n"
     ]
    }
   ],
   "source": [
    "### 21. Factorial Calculator: Write a Python program using a while loop to calculate the factorial of a given number N.\n",
    "\n",
    "\n",
    "try:\n",
    "    \n",
    "    n = int(input(\"Enter a non-negative integer: \"))\n",
    "\n",
    "    if n < 0:\n",
    "        print(\"Please enter a non-negative integer.\")\n",
    "    else:\n",
    "        \n",
    "        factorial = 1\n",
    "        i = 1\n",
    "\n",
    "        while i <= n:\n",
    "            factorial *= i\n",
    "            i += 1\n",
    "\n",
    "        print(\"The factorial of\", n, \"is:\", factorial)\n",
    "\n",
    "except ValueError:\n",
    "    print(\"Please enter a valid non-negative integer.\")\n"
   ]
  },
  {
   "cell_type": "code",
   "execution_count": 31,
   "id": "8d8b504c",
   "metadata": {},
   "outputs": [
    {
     "name": "stdout",
     "output_type": "stream",
     "text": [
      "Enter a number to print its multiplication table: 6\n",
      "Multiplication table of 6 :\n",
      "6 x 1 = 6\n",
      "6 x 2 = 12\n",
      "6 x 3 = 18\n",
      "6 x 4 = 24\n",
      "6 x 5 = 30\n",
      "6 x 6 = 36\n",
      "6 x 7 = 42\n",
      "6 x 8 = 48\n",
      "6 x 9 = 54\n",
      "6 x 10 = 60\n"
     ]
    }
   ],
   "source": [
    "### 22. Table of a Number: Write a Python program using a for loop to print the multiplication table of a given number N.\n",
    "\n",
    "try:\n",
    "    \n",
    "    n = int(input(\"Enter a number to print its multiplication table: \"))\n",
    "\n",
    "    if n < 0:\n",
    "        print(\"Please enter a non-negative integer.\")\n",
    "    else:\n",
    "        \n",
    "        print(\"Multiplication table of\", n, \":\")\n",
    "        for i in range(1, 11):\n",
    "            print(n, \"x\", i, \"=\", n*i)\n",
    "\n",
    "except ValueError:\n",
    "    print(\"Please enter a valid integer.\")\n"
   ]
  },
  {
   "cell_type": "code",
   "execution_count": 32,
   "id": "282eceb2",
   "metadata": {},
   "outputs": [
    {
     "name": "stdout",
     "output_type": "stream",
     "text": [
      "Enter an integer: 23\n",
      "Number of digits in 23 : 2\n"
     ]
    }
   ],
   "source": [
    "### 23. Count Digits in a Number: Write a Python program using a while loop to count the number of digits in a given integer N.\n",
    "\n",
    "try:\n",
    "   \n",
    "    n = int(input(\"Enter an integer: \"))\n",
    "\n",
    "    N = abs(n)\n",
    "\n",
    "    count = 0\n",
    "    divisor = 1\n",
    "\n",
    "    while n // divisor != 0:\n",
    "        count += 1\n",
    "        divisor *= 10\n",
    "\n",
    "    print(\"Number of digits in\", n, \":\", count)\n",
    "\n",
    "except ValueError:\n",
    "    print(\"Please enter a valid integer.\")\n"
   ]
  },
  {
   "cell_type": "code",
   "execution_count": 33,
   "id": "153927c6",
   "metadata": {},
   "outputs": [
    {
     "name": "stdout",
     "output_type": "stream",
     "text": [
      "Enter the number for the Fibonacci sequence: 12\n",
      "Fibonacci sequence of length 12 is: [0, 1, 1, 2, 3, 5, 8, 13, 21, 34, 55, 89]\n"
     ]
    }
   ],
   "source": [
    "### 24. Fibonacci Sequence: Write a Python program using a for loop to generate the Fibonacci sequence up to a given limit N.\n",
    "\n",
    "try:\n",
    "\n",
    "    n = int(input(\"Enter the number for the Fibonacci sequence: \"))\n",
    "\n",
    "    if n < 0:\n",
    "        print(\"please enter a positive integer\")\n",
    "        \n",
    "    else:\n",
    "        a, b = 0, 1\n",
    "        fibo = [a, b]\n",
    "\n",
    "\n",
    "        for _ in range(2, n):\n",
    "            next_fibonacci_number = a + b\n",
    "            a, b = b, next_fibonacci_number\n",
    "            fibo.append(next_fibonacci_number)\n",
    "\n",
    "\n",
    "        print(\"Fibonacci sequence of length\", n, \"is:\", fibo)\n",
    "except ValueError:\n",
    "    print(\"Please enter a valid number.\")\n"
   ]
  },
  {
   "cell_type": "code",
   "execution_count": 34,
   "id": "f605a163",
   "metadata": {},
   "outputs": [
    {
     "name": "stdout",
     "output_type": "stream",
     "text": [
      "Enter a positive integer: 12\n",
      "Sum of even numbers between 1 and 12 is: 42\n"
     ]
    }
   ],
   "source": [
    "### 25. Sum of Even Numbers: Write a Python program using a while loop to calculate the sum of all even numbers between 1 and N, where N is taken as input from the user.\n",
    "\n",
    "\n",
    "try:\n",
    "\n",
    "    n = int(input(\"Enter a positive integer: \"))\n",
    "\n",
    "    if n <= 0:\n",
    "        print(\"Please enter a positive integer.\")\n",
    "    else:\n",
    "        \n",
    "        even_sum = 0\n",
    "        num = 2\n",
    "\n",
    "        while num <= n:\n",
    "            even_sum += num\n",
    "            num += 2\n",
    "\n",
    "        print(\"Sum of even numbers between 1 and\", n, \"is:\", even_sum)\n",
    "\n",
    "except ValueError:\n",
    "    print(\"Please enter a valid integer.\")\n"
   ]
  },
  {
   "cell_type": "code",
   "execution_count": 35,
   "id": "8117489a",
   "metadata": {},
   "outputs": [
    {
     "name": "stdout",
     "output_type": "stream",
     "text": [
      "Enter the number of rows for the right-angled triangle: 12\n",
      "1 \n",
      "1 2 \n",
      "1 2 3 \n",
      "1 2 3 4 \n",
      "1 2 3 4 5 \n",
      "1 2 3 4 5 6 \n",
      "1 2 3 4 5 6 7 \n",
      "1 2 3 4 5 6 7 8 \n",
      "1 2 3 4 5 6 7 8 9 \n",
      "1 2 3 4 5 6 7 8 9 10 \n",
      "1 2 3 4 5 6 7 8 9 10 11 \n",
      "1 2 3 4 5 6 7 8 9 10 11 12 \n"
     ]
    }
   ],
   "source": [
    "### 26. Print Patterns: Write a Python program using nested for loops to print various patterns, such as a right-angled triangle, an inverted right-angled triangle, and so on.\n",
    "\n",
    "### right-angled triangle\n",
    "\n",
    "try:\n",
    "\n",
    "    user_input = int(input(\"Enter the number of rows for the right-angled triangle: \"))\n",
    "    if user_input <= 0:\n",
    "        print(\"please enter a integer greater than zero\")\n",
    "    else:\n",
    "        for i in range(1, user_input + 1):\n",
    "            for j in range(1, i + 1):\n",
    "                print(j, end=\" \")\n",
    "            print()\n",
    "\n",
    "except ValueError:\n",
    "    print(\"Please enter a valid integer.\")\n",
    "    \n",
    "    \n"
   ]
  },
  {
   "cell_type": "code",
   "execution_count": 36,
   "id": "a106fa44",
   "metadata": {},
   "outputs": [
    {
     "name": "stdout",
     "output_type": "stream",
     "text": [
      "Enter the number of rows for the inverted right-angled triangle: 12\n",
      "12 12 12 12 12 12 12 12 12 12 12 12 \n",
      "11 11 11 11 11 11 11 11 11 11 11 \n",
      "10 10 10 10 10 10 10 10 10 10 \n",
      "9 9 9 9 9 9 9 9 9 \n",
      "8 8 8 8 8 8 8 8 \n",
      "7 7 7 7 7 7 7 \n",
      "6 6 6 6 6 6 \n",
      "5 5 5 5 5 \n",
      "4 4 4 4 \n",
      "3 3 3 \n",
      "2 2 \n",
      "1 \n"
     ]
    }
   ],
   "source": [
    "###  inverted right-angled triangle\n",
    "\n",
    "try:\n",
    "\n",
    "    user_input = int(input(\"Enter the number of rows for the inverted right-angled triangle: \"))\n",
    "    if user_input <= 0:\n",
    "        print(\"please enter a positive integer\")\n",
    "    else:\n",
    "        for i in range(user_input,0, - 1):\n",
    "            for j in range(1, i + 1):\n",
    "                print(i, end=\" \")\n",
    "            print()\n",
    "\n",
    "except ValueError :\n",
    "    print(\"Please enter a valid integer.\")"
   ]
  },
  {
   "cell_type": "code",
   "execution_count": 37,
   "id": "2b1427fb",
   "metadata": {},
   "outputs": [
    {
     "name": "stdout",
     "output_type": "stream",
     "text": [
      "Enter a number: 12\n",
      "12 is not a prime number.\n"
     ]
    }
   ],
   "source": [
    "\n",
    "\n",
    "try:\n",
    "    user_input = int(input(\"Enter a number: \"))\n",
    "    if user_input <= 0:\n",
    "        print(\"Please enter a positive integer.\")\n",
    "        \n",
    "    elif user_input == 1:\n",
    "        print(\"1 is not a prime number.\")\n",
    "        \n",
    "    else:\n",
    "        i = 2\n",
    "        is_prime = True\n",
    "        while i * i <= user_input:\n",
    "            if user_input % i == 0:\n",
    "                is_prime = False\n",
    "                break\n",
    "            i += 1\n",
    "\n",
    "        if is_prime:\n",
    "            print(f\"{user_input} is a prime number.\")\n",
    "        else:\n",
    "            print(f\"{user_input} is not a prime number.\")\n",
    "\n",
    "except ValueError:\n",
    "    print(\"Please enter a valid number.\")\n"
   ]
  },
  {
   "cell_type": "code",
   "execution_count": 38,
   "id": "e431c119",
   "metadata": {},
   "outputs": [
    {
     "name": "stdout",
     "output_type": "stream",
     "text": [
      "total sum is: 320.1\n",
      "maximum value is: 75\n",
      "minimum value is: 12\n",
      "avg value is: 45.728571428571435\n"
     ]
    }
   ],
   "source": [
    "### 28. List Manipulation: Given a list of integers, write a Python program using a for loop to find the sum, average, maximum, and minimum values in the list.\n",
    "\n",
    "numbers = [20,43,67.8,12,42.3,60,75]\n",
    "\n",
    "for number in numbers:\n",
    "    total = sum(numbers)\n",
    "    maximum = max(numbers)\n",
    "    minimum = min(numbers)\n",
    "    avg = sum(numbers)/len(numbers)\n",
    "    \n",
    "    \n",
    "print(f\"total sum is: {total}\")\n",
    "print(f\"maximum value is: {maximum}\")\n",
    "print(f\"minimum value is: {minimum}\")\n",
    "print(f\"avg value is: {avg}\")"
   ]
  },
  {
   "cell_type": "code",
   "execution_count": 39,
   "id": "9aace159",
   "metadata": {},
   "outputs": [
    {
     "name": "stdout",
     "output_type": "stream",
     "text": [
      "tseuQia\n"
     ]
    }
   ],
   "source": [
    "### 29. Reverse String: Write a Python program using a while loop to reverse a given string.\n",
    "    \n",
    "reverse = \"aiQuest\"\n",
    "reversed_text = \"\"\n",
    "i = len(reverse) - 1\n",
    "\n",
    "while i >= 0:\n",
    "    reversed_text += reverse[i]\n",
    "    i -= 1\n",
    "\n",
    "print(reversed_text)\n"
   ]
  },
  {
   "cell_type": "markdown",
   "id": "299389ba",
   "metadata": {},
   "source": [
    "## Nested Loops:"
   ]
  },
  {
   "cell_type": "code",
   "execution_count": 40,
   "id": "3c63f4af",
   "metadata": {},
   "outputs": [
    {
     "name": "stdout",
     "output_type": "stream",
     "text": [
      "1 x 1 = 1\n",
      "1 x 2 = 2\n",
      "1 x 3 = 3\n",
      "1 x 4 = 4\n",
      "1 x 5 = 5\n",
      "1 x 6 = 6\n",
      "1 x 7 = 7\n",
      "1 x 8 = 8\n",
      "1 x 9 = 9\n",
      "1 x 10 = 10\n",
      "\n",
      "2 x 1 = 2\n",
      "2 x 2 = 4\n",
      "2 x 3 = 6\n",
      "2 x 4 = 8\n",
      "2 x 5 = 10\n",
      "2 x 6 = 12\n",
      "2 x 7 = 14\n",
      "2 x 8 = 16\n",
      "2 x 9 = 18\n",
      "2 x 10 = 20\n",
      "\n",
      "3 x 1 = 3\n",
      "3 x 2 = 6\n",
      "3 x 3 = 9\n",
      "3 x 4 = 12\n",
      "3 x 5 = 15\n",
      "3 x 6 = 18\n",
      "3 x 7 = 21\n",
      "3 x 8 = 24\n",
      "3 x 9 = 27\n",
      "3 x 10 = 30\n",
      "\n",
      "4 x 1 = 4\n",
      "4 x 2 = 8\n",
      "4 x 3 = 12\n",
      "4 x 4 = 16\n",
      "4 x 5 = 20\n",
      "4 x 6 = 24\n",
      "4 x 7 = 28\n",
      "4 x 8 = 32\n",
      "4 x 9 = 36\n",
      "4 x 10 = 40\n",
      "\n",
      "5 x 1 = 5\n",
      "5 x 2 = 10\n",
      "5 x 3 = 15\n",
      "5 x 4 = 20\n",
      "5 x 5 = 25\n",
      "5 x 6 = 30\n",
      "5 x 7 = 35\n",
      "5 x 8 = 40\n",
      "5 x 9 = 45\n",
      "5 x 10 = 50\n",
      "\n",
      "6 x 1 = 6\n",
      "6 x 2 = 12\n",
      "6 x 3 = 18\n",
      "6 x 4 = 24\n",
      "6 x 5 = 30\n",
      "6 x 6 = 36\n",
      "6 x 7 = 42\n",
      "6 x 8 = 48\n",
      "6 x 9 = 54\n",
      "6 x 10 = 60\n",
      "\n",
      "7 x 1 = 7\n",
      "7 x 2 = 14\n",
      "7 x 3 = 21\n",
      "7 x 4 = 28\n",
      "7 x 5 = 35\n",
      "7 x 6 = 42\n",
      "7 x 7 = 49\n",
      "7 x 8 = 56\n",
      "7 x 9 = 63\n",
      "7 x 10 = 70\n",
      "\n",
      "8 x 1 = 8\n",
      "8 x 2 = 16\n",
      "8 x 3 = 24\n",
      "8 x 4 = 32\n",
      "8 x 5 = 40\n",
      "8 x 6 = 48\n",
      "8 x 7 = 56\n",
      "8 x 8 = 64\n",
      "8 x 9 = 72\n",
      "8 x 10 = 80\n",
      "\n",
      "9 x 1 = 9\n",
      "9 x 2 = 18\n",
      "9 x 3 = 27\n",
      "9 x 4 = 36\n",
      "9 x 5 = 45\n",
      "9 x 6 = 54\n",
      "9 x 7 = 63\n",
      "9 x 8 = 72\n",
      "9 x 9 = 81\n",
      "9 x 10 = 90\n",
      "\n",
      "10 x 1 = 10\n",
      "10 x 2 = 20\n",
      "10 x 3 = 30\n",
      "10 x 4 = 40\n",
      "10 x 5 = 50\n",
      "10 x 6 = 60\n",
      "10 x 7 = 70\n",
      "10 x 8 = 80\n",
      "10 x 9 = 90\n",
      "10 x 10 = 100\n",
      "\n"
     ]
    }
   ],
   "source": [
    "### 30. Multiplication Table: Write a Python program using nested loops to print the multiplication table from 1 to 10.\n",
    "\n",
    "for i in range(1, 11):\n",
    "    for j in range(1, 11):\n",
    "        print(f\"{i} x {j} = {i*j}\")\n",
    "    print()\n",
    "    \n",
    "    "
   ]
  },
  {
   "cell_type": "code",
   "execution_count": 41,
   "id": "b503078f",
   "metadata": {},
   "outputs": [
    {
     "name": "stdout",
     "output_type": "stream",
     "text": [
      "enter an integer: 12\n",
      "* \n",
      "* * \n",
      "* * * \n",
      "* * * * \n",
      "* * * * * \n",
      "* * * * * * \n",
      "* * * * * * * \n",
      "* * * * * * * * \n",
      "* * * * * * * * * \n",
      "* * * * * * * * * * \n",
      "* * * * * * * * * * * \n",
      "* * * * * * * * * * * * \n"
     ]
    }
   ],
   "source": [
    "### 31. Print Patterns: Write a Python program using nested loops to print the following pattern:\n",
    "\n",
    "user_input = int(input(\"enter an integer: \"))\n",
    "for i in range(1, user_input + 1):\n",
    "    for j in range(1, i + 1):\n",
    "        print(\"*\", end = \" \")\n",
    "    print()"
   ]
  },
  {
   "cell_type": "code",
   "execution_count": 42,
   "id": "80078564",
   "metadata": {},
   "outputs": [
    {
     "name": "stdout",
     "output_type": "stream",
     "text": [
      "[35, 60]\n",
      "[84, 111]\n"
     ]
    }
   ],
   "source": [
    "### 32. Matrix Multiplication: Write a Python program using nested loops to multiply two matrices.\n",
    "\n",
    "\n",
    "matrix1 = [[1, 2, 7],\n",
    "           [4, 5, 9]]\n",
    "\n",
    "matrix2 = [[9, 8],\n",
    "           [6, 5],\n",
    "           [2, 6]]\n",
    "           \n",
    "\n",
    "# result_matrix = [[0, 0], \n",
    "#                  [0, 0]]\n",
    "\n",
    "result = [[0 for _ in range(len(matrix2[0]))] for _ in range(len(matrix1))]\n",
    "                \n",
    "\n",
    "for matrix1_row in range(len(matrix1)):\n",
    "\n",
    "    for matrix2_column in range(len(matrix2[0])):\n",
    "\n",
    "        for matrix2_row in range(len(matrix2)):\n",
    "\n",
    "            result[matrix1_row][matrix2_column] = result[matrix1_row][matrix2_column] + matrix1[matrix1_row][matrix2_row] * matrix2[matrix2_row][matrix2_column]\n",
    "\n",
    "\n",
    "for row in result:\n",
    "    print(row)\n"
   ]
  },
  {
   "cell_type": "code",
   "execution_count": 43,
   "id": "947879ac",
   "metadata": {},
   "outputs": [],
   "source": [
    "### Chessboard Pattern: Write a Python program using nested loops to print a chessboard pattern (alternating “X” and “O” characters) of size 8×8.34. Number Pyramid: Write a Python program using nested loops to print a number pyramid like the following: 1 22 333 4444 55555\n",
    "\n",
    "## need to come back again"
   ]
  },
  {
   "cell_type": "code",
   "execution_count": 44,
   "id": "ef94f32b",
   "metadata": {},
   "outputs": [
    {
     "name": "stdout",
     "output_type": "stream",
     "text": [
      "1\n",
      "22\n",
      "333\n",
      "4444\n",
      "55555\n"
     ]
    }
   ],
   "source": [
    "for i in range(1,6):\n",
    "    for j in range(1,i+1):\n",
    "        print(i,end='')\n",
    "    print()\n"
   ]
  },
  {
   "cell_type": "markdown",
   "id": "4b674823",
   "metadata": {},
   "source": [
    "## List Problems:\n"
   ]
  },
  {
   "cell_type": "code",
   "execution_count": 45,
   "id": "a6ffa64b",
   "metadata": {},
   "outputs": [
    {
     "name": "stdout",
     "output_type": "stream",
     "text": [
      " Total sum is: 3954\n"
     ]
    }
   ],
   "source": [
    "### 34. List Sum: Write a Python program to find the sum of all elements in a given list of integers.\n",
    "\n",
    "lst = [1,2,6,7,8,200,45,32,76,887,456,2234]\n",
    "\n",
    "lst_sum = sum(lst)\n",
    "\n",
    "print(f\" Total sum is: {lst_sum}\")"
   ]
  },
  {
   "cell_type": "code",
   "execution_count": 46,
   "id": "ecfb2404",
   "metadata": {},
   "outputs": [
    {
     "name": "stdout",
     "output_type": "stream",
     "text": [
      " Average is: 256.1818181818182\n"
     ]
    }
   ],
   "source": [
    "### 35. List Average: Write a Python program to calculate the average of all elements in a given list of integers.\n",
    "\n",
    "lst = [2,5,7,8,95,43,234,455,678,1234,57]\n",
    "\n",
    "average = sum(lst)/len(lst)\n",
    "print(f\" Average is: {average}\")"
   ]
  },
  {
   "cell_type": "code",
   "execution_count": 47,
   "id": "d76c75d6",
   "metadata": {},
   "outputs": [
    {
     "name": "stdout",
     "output_type": "stream",
     "text": [
      "Maximum value is: 6557 Minimum value is: 3\n"
     ]
    }
   ],
   "source": [
    "### 36. List Max and Min: Write a Python program to find the maximum and minimum values in a given list of integers.\n",
    "\n",
    "lst = [3,4,5,6,765,43,3,467,3354,6557,2323,4,5,7,11]\n",
    "\n",
    "maximum = max(lst)\n",
    "minimum = min(lst)\n",
    "\n",
    "print(f\"Maximum value is: {maximum} Minimum value is: {minimum}\")"
   ]
  },
  {
   "cell_type": "code",
   "execution_count": 48,
   "id": "0a3bbaa6",
   "metadata": {},
   "outputs": [
    {
     "data": {
      "text/plain": [
       "[1, 1, 2, 4, 5, 5, 6, 33, 45, 53, 90, 222, 765, 3332]"
      ]
     },
     "execution_count": 48,
     "metadata": {},
     "output_type": "execute_result"
    }
   ],
   "source": [
    "### 37. List Sorting: Write a Python program to sort a list of integers in ascending order.\n",
    "\n",
    "lst = [1,4,5,6,2,90,5,33,222,45,765,3332,53,1]\n",
    "\n",
    "sort_lst = sorted(lst)\n",
    "sort_lst"
   ]
  },
  {
   "cell_type": "code",
   "execution_count": 49,
   "id": "c251de3b",
   "metadata": {},
   "outputs": [
    {
     "name": "stdout",
     "output_type": "stream",
     "text": [
      "2\n",
      "4\n",
      "56\n",
      "44\n",
      "76\n",
      "8998\n"
     ]
    }
   ],
   "source": [
    "### 38. List Filtering: Given a list of integers, write a Python program to create a new list that contains only the even numbers from the original list.\n",
    "\n",
    "lst1 = [2,3,4,56,89,65,44,76,8998,4321,67]\n",
    "\n",
    "for lst in lst1:\n",
    "    if lst%2 ==0:\n",
    "        print(lst)"
   ]
  },
  {
   "cell_type": "code",
   "execution_count": 50,
   "id": "b172ace4",
   "metadata": {},
   "outputs": [
    {
     "name": "stdout",
     "output_type": "stream",
     "text": [
      "[6, 5, 4, 3, 2, 1]\n"
     ]
    }
   ],
   "source": [
    "### 39. List Reversal: Write a Python program to reverse a given list without using any built-in functions.\n",
    "\n",
    "lst = [1,2,3,4,5,6]\n",
    "\n",
    "print(lst[::-1])"
   ]
  },
  {
   "cell_type": "code",
   "execution_count": 51,
   "id": "295e9eba",
   "metadata": {},
   "outputs": [
    {
     "data": {
      "text/plain": [
       "[1, 2, 3, 4, 9]"
      ]
     },
     "execution_count": 51,
     "metadata": {},
     "output_type": "execute_result"
    }
   ],
   "source": [
    "### 40. List Manipulation: Given two lists of integers, write a Python program to create a new list that contains elements common to both lists.\n",
    "\n",
    "lst1 = [1,2,3,4,5,6,7,8,9]\n",
    "lst2 = [1,2,3,4,9,96,44,65,32]\n",
    "\n",
    "set1 = set(lst1)\n",
    "set2 = set(lst2)\n",
    "\n",
    "intersection = set1.intersection(set2)\n",
    "new_lst = list(intersection)\n",
    "new_lst\n"
   ]
  },
  {
   "cell_type": "code",
   "execution_count": 52,
   "id": "6eb3e475",
   "metadata": {},
   "outputs": [
    {
     "name": "stdout",
     "output_type": "stream",
     "text": [
      "5 is present: 5 times in this list\n"
     ]
    }
   ],
   "source": [
    "### 41. List Element Count: Write a Python program to count the occurrences of a specific element in a given list.\n",
    "\n",
    "lst = [1,2,3,4,5,6,6,5,4,3,2,2,1,2,3,4,5,5,5]\n",
    "\n",
    "count_element = 5\n",
    "count = lst.count(count_element)\n",
    "print(\"5 is present:\", count, \"times in this list\")"
   ]
  },
  {
   "cell_type": "code",
   "execution_count": 53,
   "id": "ad9cfbcc",
   "metadata": {},
   "outputs": [
    {
     "data": {
      "text/plain": [
       "[1, 2, 3, 4, 5, 6, 7]"
      ]
     },
     "execution_count": 53,
     "metadata": {},
     "output_type": "execute_result"
    }
   ],
   "source": [
    "### 42. List Duplicates Removal: Write a Python program to remove duplicates from a given list while preserving the order of the elements.\n",
    "\n",
    "lst = [1,2,2,2,3,3,4,7,5,6,7,6,7,4]\n",
    "\n",
    "set1 = set(lst)\n",
    "unique_list = list(set1)\n",
    "unique_list"
   ]
  },
  {
   "cell_type": "code",
   "execution_count": 54,
   "id": "4831f2a4",
   "metadata": {},
   "outputs": [
    {
     "data": {
      "text/plain": [
       "[4, 9, 16, 25, 36, 49, 64]"
      ]
     },
     "execution_count": 54,
     "metadata": {},
     "output_type": "execute_result"
    }
   ],
   "source": [
    "### 43. List Comprehension: Given a list of integers, write a Python program to create a new list that contains the squares of the elements using list comprehension.\n",
    "\n",
    "lsts = [2,3,4,5,6,7,8]\n",
    "\n",
    "square_list = [lst**2 for lst in lsts]\n",
    "\n",
    "square_list\n"
   ]
  },
  {
   "cell_type": "markdown",
   "id": "10dcd3e4",
   "metadata": {},
   "source": [
    "# Nested List Problems:"
   ]
  },
  {
   "cell_type": "code",
   "execution_count": 55,
   "id": "c5a290aa",
   "metadata": {},
   "outputs": [
    {
     "name": "stdout",
     "output_type": "stream",
     "text": [
      "[14, 6, 60]\n",
      "[31, 70, 47]\n",
      "[28, 115, 1000]\n"
     ]
    }
   ],
   "source": [
    "### 44. Matrix Addition: Write a Python program to add two matrices represented as nested lists.\n",
    "\n",
    "matrix1 = [[2,2,5],\n",
    "          [9,3,44],\n",
    "           [21,90,900]]\n",
    "matrix2 = [[12,4,55],\n",
    "           [22,67,3],\n",
    "           [7,25,100]]\n",
    "sum_matrix = [[0,0,0],\n",
    "             [0,0,0],\n",
    "             [0,0,0]]\n",
    "\n",
    "for row in range(len(matrix1)):\n",
    "    for column in range(len(matrix1[0])):\n",
    "        sum_matrix[row][column] = matrix1[row][column] + matrix2[row][column]\n",
    "\n",
    "for row in sum_matrix:\n",
    "    print(row)\n",
    "                                                                                                 "
   ]
  },
  {
   "cell_type": "code",
   "execution_count": 56,
   "id": "4193bf13",
   "metadata": {},
   "outputs": [
    {
     "name": "stdout",
     "output_type": "stream",
     "text": [
      "old list: [1, [1, 3, 4], [2, 7, 8], 7, 4, 8]\n",
      "new list: [1, 1, 3, 4, 2, 7, 8, 7, 4, 8]\n"
     ]
    }
   ],
   "source": [
    "### 45. Flatten Nested List: Write a Python program to flatten a given nested list and convert it into a single-dimensional list.\n",
    "\n",
    "\n",
    "list_1 = [1,[1,3,4],[2,7,8],7,4,8]\n",
    "print(f\"old list: {list_1}\")\n",
    "\n",
    "new_list = []\n",
    "for i in list_1:\n",
    "    if isinstance(i, list):\n",
    "        new_list.extend(i)\n",
    "    else:\n",
    "        new_list.append(i)\n",
    "print(f\"new list: {new_list}\")\n"
   ]
  },
  {
   "cell_type": "code",
   "execution_count": 57,
   "id": "20345fad",
   "metadata": {},
   "outputs": [
    {
     "name": "stdout",
     "output_type": "stream",
     "text": [
      "Frequency of element 1 is: 3\n",
      "Frequency of element 2 is: 1\n",
      "Frequency of element 3 is: 1\n",
      "Frequency of element 4 is: 2\n",
      "Frequency of element 7 is: 2\n",
      "Frequency of element 8 is: 3\n"
     ]
    }
   ],
   "source": [
    "### 46. List Element Frequency: Given a nested list containing lists of integers, write a Python program to count the frequency of each element in the entire nested list.\n",
    "\n",
    "\n",
    "import pandas as pd\n",
    "\n",
    "list_1 = [1, [1, 3, 4], [2, 7, 8], 7, 4, 8, 8,1]\n",
    "\n",
    "new_list = []\n",
    "for i in list_1:\n",
    "    if isinstance(i, list):\n",
    "        new_list.extend(i)\n",
    "    else:\n",
    "        new_list.append(i)\n",
    "        \n",
    "series = pd.Series(new_list)\n",
    "\n",
    "frequency = series.value_counts()\n",
    "\n",
    "sorted_freq = dict(sorted(frequency.items()))\n",
    "\n",
    "for element, freq in sorted_freq.items():\n",
    "    print(f\"Frequency of element {element} is: {freq}\")\n"
   ]
  },
  {
   "cell_type": "code",
   "execution_count": 58,
   "id": "af7fccf5",
   "metadata": {},
   "outputs": [
    {
     "name": "stdout",
     "output_type": "stream",
     "text": [
      "[1, 4, 7]\n",
      "[2, 5, 8]\n",
      "[3, 6, 9]\n"
     ]
    }
   ],
   "source": [
    "### 47. Transpose Matrix: Write a Python program to transpose a given matrix represented as a nested list.\n",
    "\n",
    "matrix1 = [[1,2,3],\n",
    "          [4,5,6],\n",
    "           [7,8,9]]\n",
    "tp_matrix = [[0,0,0],\n",
    "            [0,0,0],\n",
    "            [0,0,0]]\n",
    "\n",
    "for i in range(len(matrix1)):\n",
    "    for j in range(len(matrix1[0])):\n",
    "        \n",
    "        tp_matrix[j][i] = matrix1[i][j]\n",
    "        \n",
    "for matrix in tp_matrix:\n",
    "    print(matrix)\n",
    "        \n",
    "    \n"
   ]
  },
  {
   "cell_type": "code",
   "execution_count": 59,
   "id": "ddc9e895",
   "metadata": {},
   "outputs": [
    {
     "name": "stdout",
     "output_type": "stream",
     "text": [
      "old list: [[1, 4, 5], [1, 3, 4], [2, 7, 8], [7, 4, 8]]\n",
      "new list: [1, 4, 5, 1, 3, 4, 2, 7, 8, 7, 4, 8]\n"
     ]
    }
   ],
   "source": [
    "### 48. List of Lists Concatenation: Given a list of nested lists, write a Python program to concatenate all the sublists into a single flat list.\n",
    "\n",
    "\n",
    "list_1 = [[1,4,5],[1,3,4],[2,7,8],[7,4,8]]\n",
    "print(f\"old list: {list_1}\")\n",
    "\n",
    "new_list = []\n",
    "for i in list_1:\n",
    "    if isinstance(i, list):\n",
    "        new_list.extend(i)\n",
    "    else:\n",
    "        new_list.append(i)\n",
    "print(f\"new list: {new_list}\")\n"
   ]
  },
  {
   "cell_type": "markdown",
   "id": "db745f92",
   "metadata": {},
   "source": [
    "# Tuple Problems:"
   ]
  },
  {
   "cell_type": "code",
   "execution_count": 60,
   "id": "7d356942",
   "metadata": {},
   "outputs": [
    {
     "name": "stdout",
     "output_type": "stream",
     "text": [
      "(5, 1, 77, 40, 56, 69)\n"
     ]
    }
   ],
   "source": [
    "### 49. Tuple Concatenation: Write a Python program to concatenate two tuples and create a new tuple.\n",
    "\n",
    "tuple1 = (5, 1, 77)\n",
    "tuple2 = (40, 56, 69)\n",
    "concat = tuple1 + tuple2\n",
    "print(concat)"
   ]
  },
  {
   "cell_type": "code",
   "execution_count": 61,
   "id": "6ebc6674",
   "metadata": {},
   "outputs": [
    {
     "name": "stdout",
     "output_type": "stream",
     "text": [
      "Value of a: 11\n",
      "Value of b: 22\n",
      "Value of c: 33\n"
     ]
    }
   ],
   "source": [
    "### 50. Tuple Unpacking: Given a tuple with three elements (x, y, z), write a Python program to unpack the tuple and assign the values to three variables.\n",
    "\n",
    "tuple_ = (11,22,33)\n",
    "a,b,c = tuple_\n",
    "\n",
    "print(\"Value of a:\", a)\n",
    "print(\"Value of b:\", b)\n",
    "print(\"Value of c:\", c)"
   ]
  },
  {
   "cell_type": "code",
   "execution_count": 62,
   "id": "0a8b1167",
   "metadata": {},
   "outputs": [
    {
     "data": {
      "text/plain": [
       "(2, 3, 4, 7, 11, 66, 95)"
      ]
     },
     "execution_count": 62,
     "metadata": {},
     "output_type": "execute_result"
    }
   ],
   "source": [
    "### 51. Tuple Sorting: Write a Python program to sort a tuple of integers in ascending order.\n",
    "\n",
    "tuple_ = (3,66,7,4,2,11,95)\n",
    "\n",
    "sorted_tuple = tuple(sorted(tuple_))\n",
    "sorted_tuple"
   ]
  },
  {
   "cell_type": "code",
   "execution_count": 63,
   "id": "255684c5",
   "metadata": {},
   "outputs": [
    {
     "name": "stdout",
     "output_type": "stream",
     "text": [
      "The element 7 present 4 times in the tuple.\n"
     ]
    }
   ],
   "source": [
    "### 52. Tuple Frequency Count: Given a tuple containing various elements, write a Python program to count the frequency of a specific element in the tuple.\n",
    "\n",
    "_tuple_ = (1,7,5,4,3,6,7,3,2,1,7,8,9,66,7)\n",
    "element_ = 7\n",
    "count = _tuple_.count(element_)\n",
    "print(f\"The element {element_} present {count} times in the tuple.\")"
   ]
  },
  {
   "cell_type": "code",
   "execution_count": 64,
   "id": "ad8c0b92",
   "metadata": {},
   "outputs": [
    {
     "name": "stdout",
     "output_type": "stream",
     "text": [
      "<class 'list'> [1, 2, 3, 4, 5, 6]\n"
     ]
    }
   ],
   "source": [
    "### 53. Tuple to List: Write a Python program to convert a tuple into a list.\n",
    "\n",
    "tuple_ = (1,2,3,4,5,6)\n",
    "\n",
    "list_ = list(tuple_)\n",
    "\n",
    "print(type(list_),list_)"
   ]
  },
  {
   "cell_type": "code",
   "execution_count": 65,
   "id": "4f1a40e6",
   "metadata": {},
   "outputs": [
    {
     "name": "stdout",
     "output_type": "stream",
     "text": [
      "(6, 5, 4, 3, 2, 1)\n"
     ]
    }
   ],
   "source": [
    "### 54. Tuple Reversal: Write a Python program to reverse a tuple without using any built-in functions.\n",
    "\n",
    "tuple_ = (1,2,3,4,5,6)\n",
    "reversed_tuple = (tuple_[::-1])\n",
    "print(reversed_tuple)"
   ]
  },
  {
   "cell_type": "code",
   "execution_count": 66,
   "id": "2891bfd6",
   "metadata": {},
   "outputs": [
    {
     "name": "stdout",
     "output_type": "stream",
     "text": [
      "(2, 3, 4, 5, 6, 7)\n"
     ]
    }
   ],
   "source": [
    "### 55. Tuple Slicing: Given a tuple, write a Python program to extract a slice of elements from it.\n",
    "\n",
    "tuple_ = (1,2,3,4,5,6,7,8,9,10)\n",
    "extract = tuple_[1:7]\n",
    "print(extract)"
   ]
  },
  {
   "cell_type": "code",
   "execution_count": 67,
   "id": "070e227e",
   "metadata": {},
   "outputs": [
    {
     "name": "stdout",
     "output_type": "stream",
     "text": [
      "addition of tuple_1 and tuple_2 is: (6, 8, 10, 12)\n",
      "subtraction of tuple_1 and tuple_2 is: (-4, -4, -4, -4)\n",
      "multiplication of tuple_1 and tuple_2 is: (5, 12, 21, 32)\n"
     ]
    }
   ],
   "source": [
    "### 56. Tuple Operations: Given two tuples of integers, write a Python program to perform element-wise addition, subtraction, and multiplication and create new tuples for each operation.\n",
    "tuple_1 = (1, 2, 3, 4)\n",
    "tuple_2 = (5, 6, 7, 8)\n",
    "\n",
    "addition = tuple(i + j for i, j in zip(tuple_1, tuple_2))\n",
    "subtraction = tuple(i-j for i, j in zip(tuple_1, tuple_2))\n",
    "multiplication = tuple(i*j for i, j in zip(tuple_1, tuple_2))\n",
    "\n",
    "print(f\"addition of tuple_1 and tuple_2 is: {addition}\")\n",
    "print(f\"subtraction of tuple_1 and tuple_2 is: {subtraction}\")\n",
    "print(f\"multiplication of tuple_1 and tuple_2 is: {multiplication}\")\n"
   ]
  },
  {
   "cell_type": "code",
   "execution_count": 68,
   "id": "2ef5f618",
   "metadata": {},
   "outputs": [
    {
     "name": "stdout",
     "output_type": "stream",
     "text": [
      "enter a integer number12\n",
      "12 is not exists in a tuple\n"
     ]
    }
   ],
   "source": [
    "### 57. Tuple Membership Test: Write a Python program that takes an element as input and checks if it exists in a given tuple.\n",
    "\n",
    "tuple_ = (1,2,3,4,5,6,7,8,9,10)\n",
    "try:\n",
    "    user_input = int(input(\"enter a integer number\"))\n",
    "    if user_input in  tuple_:\n",
    "        print(f\"{user_input} is exists in a tuple\")\n",
    "    else:\n",
    "        print(f\"{user_input} is not exists in a tuple\")\n",
    "        \n",
    "except:\n",
    "    print(\"please enter valid integer number\")\n",
    "    "
   ]
  },
  {
   "cell_type": "code",
   "execution_count": 69,
   "id": "2571399a",
   "metadata": {},
   "outputs": [
    {
     "name": "stdout",
     "output_type": "stream",
     "text": [
      "(4, 6, 32)\n"
     ]
    }
   ],
   "source": [
    "### 58. Tuple Packing: Write a Python program to pack three variables into a single tuple and print the tuple.\n",
    "\n",
    "x = 4\n",
    "y = 6\n",
    "z = 32\n",
    "tuple_ = x, y, z\n",
    "print(tuple_)"
   ]
  },
  {
   "cell_type": "markdown",
   "id": "44228785",
   "metadata": {},
   "source": [
    "# Nested List Problems:"
   ]
  },
  {
   "cell_type": "code",
   "execution_count": 70,
   "id": "933c1be9",
   "metadata": {},
   "outputs": [
    {
     "name": "stdout",
     "output_type": "stream",
     "text": [
      "whole list [[1, 2, 3, 4], [5, 6, 7], [8, 9, 10]]\n",
      "access element 6\n"
     ]
    }
   ],
   "source": [
    "### 59. Nested List Element Access: Given a nested list, write a Python program to access and print specific elements from it.\n",
    "\n",
    "lst = [[1,2,3,4],[5,6,7],[8,9,10]]\n",
    "access = lst[1][1]\n",
    "print(\"whole list\",lst)\n",
    "print(\"access element\",access)\n"
   ]
  },
  {
   "cell_type": "code",
   "execution_count": 71,
   "id": "1078a889",
   "metadata": {},
   "outputs": [
    {
     "name": "stdout",
     "output_type": "stream",
     "text": [
      "old list: [1, [1, 3, 4], [2, 7, 8], 7, 4, 8]\n",
      "new list: [1, 1, 3, 4, 2, 7, 8, 7, 4, 8]\n"
     ]
    }
   ],
   "source": [
    "### 60. Nested List Flattening: Write a Python program to flatten a nested list and convert it into a single-dimensional list.\n",
    "\n",
    "list_1 = [1,[1,3,4],[2,7,8],7,4,8]\n",
    "print(f\"old list: {list_1}\")\n",
    "\n",
    "new_list = []\n",
    "for i in list_1:\n",
    "    if isinstance(i, list):\n",
    "        new_list.extend(i)\n",
    "    else:\n",
    "        new_list.append(i)\n",
    "print(f\"new list: {new_list}\")"
   ]
  },
  {
   "cell_type": "code",
   "execution_count": 72,
   "id": "465c1df2",
   "metadata": {},
   "outputs": [
    {
     "data": {
      "text/plain": [
       "[[1, 2], [3, 4, 5], [6, 7, 8, 9]]"
      ]
     },
     "execution_count": 72,
     "metadata": {},
     "output_type": "execute_result"
    }
   ],
   "source": [
    "### 61. Nested List Sorting: Given a nested list containing lists of integers, write a Python program to sort the sublists based on their lengths.\n",
    "\n",
    "lst = [[1,2],[3,4,5],[6,7,8,9]]\n",
    "\n",
    "sorted_lst = sorted(lst, key = len)\n",
    "sorted_lst"
   ]
  },
  {
   "cell_type": "code",
   "execution_count": 73,
   "id": "bac9723f",
   "metadata": {},
   "outputs": [
    {
     "name": "stdout",
     "output_type": "stream",
     "text": [
      "coordinate of x is: [1, 3, 5] \n",
      "coordinate of y is: [2, 4, 6]\n"
     ]
    }
   ],
   "source": [
    "### 62. List of Tuples Conversion: Given a nested list containing tuples of (x, y) coordinates, write a Python program to convert it into a list of x-coordinates and a list of y-coordinates.\n",
    "\n",
    "lst_tuple = [(1,2),(3,4),(5,6)]\n",
    "x = [x for x,y in lst_tuple]\n",
    "y = [y for x,y in lst_tuple]\n",
    "print(\"coordinate of x is:\",x,'\\n' \"coordinate of y is:\",y)"
   ]
  },
  {
   "cell_type": "code",
   "execution_count": 74,
   "id": "12758691",
   "metadata": {},
   "outputs": [
    {
     "name": "stdout",
     "output_type": "stream",
     "text": [
      "[1, 4, 7]\n",
      "[2, 5, 8]\n",
      "[3, 6, 9]\n"
     ]
    }
   ],
   "source": [
    "### 63. Matrix Transpose: Write a Python program to transpose a given matrix represented as a nested list.\n",
    "\n",
    "matrix1 = [[1,2,3],\n",
    "          [4,5,6],\n",
    "           [7,8,9]]\n",
    "tp_matrix = [[0,0,0],\n",
    "            [0,0,0],\n",
    "            [0,0,0]]\n",
    "\n",
    "for i in range(len(matrix1)):\n",
    "    for j in range(len(matrix1[0])):\n",
    "        \n",
    "        tp_matrix[j][i] = matrix1[i][j]\n",
    "        \n",
    "for matrix in tp_matrix:\n",
    "    print(matrix)"
   ]
  },
  {
   "cell_type": "code",
   "execution_count": 75,
   "id": "00a8313f",
   "metadata": {},
   "outputs": [
    {
     "name": "stdout",
     "output_type": "stream",
     "text": [
      "old list: [[1, 4, 5], [1, 3, 4], [2, 7, 8], [7, 4, 8]]\n",
      "new list: [1, 4, 5, 1, 3, 4, 2, 7, 8, 7, 4, 8]\n"
     ]
    }
   ],
   "source": [
    "### 64. Nested List Concatenation: Given a list of nested lists, write a Python program to concatenate all the sublists into a single flat list.\n",
    "\n",
    "list_1 = [[1,4,5],[1,3,4],[2,7,8],[7,4,8]]\n",
    "print(f\"old list: {list_1}\")\n",
    "\n",
    "new_list = []\n",
    "for i in list_1:\n",
    "    if isinstance(i, list):\n",
    "        new_list.extend(i)\n",
    "    else:\n",
    "        new_list.append(i)\n",
    "print(f\"new list: {new_list}\")"
   ]
  },
  {
   "cell_type": "code",
   "execution_count": 76,
   "id": "e61b588c",
   "metadata": {},
   "outputs": [
    {
     "name": "stdout",
     "output_type": "stream",
     "text": [
      "Total even number is: 7\n"
     ]
    }
   ],
   "source": [
    "### 65. Count Even Numbers: Write a Python program to count the number of even numbers in a nested list.\n",
    "\n",
    "lst = [[1, 2, 3, 4], [44, 554, 67, 88], [22, 33, 11, 334]]\n",
    "\n",
    "\n",
    "new_list = []\n",
    "for i in lst:\n",
    "    new_list.extend(i)\n",
    "\n",
    "\n",
    "even_numbers = 0\n",
    "for even_number in new_list:\n",
    "    if even_number % 2 == 0:\n",
    "        even_numbers = even_numbers + 1\n",
    "\n",
    "print(f\"Total even number is: {even_numbers}\")\n",
    "    \n"
   ]
  },
  {
   "cell_type": "code",
   "execution_count": 77,
   "id": "04ee3510",
   "metadata": {},
   "outputs": [
    {
     "name": "stdout",
     "output_type": "stream",
     "text": [
      "Maximum number in a list is: 554\n"
     ]
    }
   ],
   "source": [
    "### 66. Maximum Element in Nested List: Write a Python program to find the maximum element in a nested list of integers.\n",
    "\n",
    "lst = [[1, 2, 3, 4], [44, 554, 67, 88], [22, 33, 11, 334]]\n",
    "\n",
    "\n",
    "new_list = []\n",
    "for i in lst:\n",
    "    new_list.extend(i)\n",
    "    \n",
    "maximum_integer = max(new_list)\n",
    "print(\"Maximum number in a list is:\",maximum_integer)"
   ]
  },
  {
   "cell_type": "code",
   "execution_count": 78,
   "id": "a9cde24f",
   "metadata": {},
   "outputs": [
    {
     "name": "stdout",
     "output_type": "stream",
     "text": [
      "diagonal sum is: 67\n"
     ]
    }
   ],
   "source": [
    "### 67. Diagonal Sum of Matrix: Given a square matrix represented as a nested list, write a Python program to calculate the sum of the elements in the main diagonal.\n",
    "\n",
    "matrix = [[33,44,5],\n",
    "         [22,31,87],\n",
    "         [11,2,3]]\n",
    "\n",
    "sum_ = 0\n",
    "\n",
    "for i in range(len(matrix)):\n",
    "    sum_ = sum_ + matrix[i][i]\n",
    "    \n",
    "print(f\"diagonal sum is: {sum_}\")"
   ]
  },
  {
   "cell_type": "code",
   "execution_count": 79,
   "id": "a0709c51",
   "metadata": {},
   "outputs": [
    {
     "name": "stdout",
     "output_type": "stream",
     "text": [
      "Enter an integer number: 12\n",
      "Element 12 found at position (row, column): (2, 1)\n"
     ]
    }
   ],
   "source": [
    "### 68. Nested List Element Search: Write a Python program to search for a specific element in a nested list and return its position (row and column indices).\n",
    "\n",
    "n_list = [[1, 2, 3, 4, 5], [6, 7, 8, 9, 10], [11, 12, 13, 14, 15], [16, 17, 18, 19, 20]]\n",
    "\n",
    "try:\n",
    "    user_input = int(input(\"Enter an integer number: \"))\n",
    "    found = False\n",
    "    for rows in range(len(n_list)):\n",
    "        for columns in range(len(n_list[0])):\n",
    "            if n_list[rows][columns] == user_input:\n",
    "                print(f\"Element {user_input} found at position (row, column): ({rows}, {columns})\")\n",
    "                found = True\n",
    "                break\n",
    "        if found:\n",
    "            break\n",
    "    else:\n",
    "        print(f\"Element {user_input} not found in the nested list.\")\n",
    "except ValueError:\n",
    "    print(\"Invalid input. Please enter an integer number.\")\n"
   ]
  },
  {
   "cell_type": "markdown",
   "id": "55d60f8e",
   "metadata": {},
   "source": [
    "# Set Problems:"
   ]
  },
  {
   "cell_type": "code",
   "execution_count": 80,
   "id": "80e99a64",
   "metadata": {},
   "outputs": [
    {
     "data": {
      "text/plain": [
       "{1, 2, 3, 4, 5, 6, 7, 8, 9}"
      ]
     },
     "execution_count": 80,
     "metadata": {},
     "output_type": "execute_result"
    }
   ],
   "source": [
    "### 69. Duplicate Removal: Write a Python program that takes a list of elements as input and creates a new set containing only the unique elements from the list.\n",
    "\n",
    "lst = [1,1,2,3,4,5,6,7,8,9,8,7,6,6,5,4]\n",
    "\n",
    "unique_set = set(lst)\n",
    "unique_set"
   ]
  },
  {
   "cell_type": "code",
   "execution_count": 81,
   "id": "1e625ba6",
   "metadata": {},
   "outputs": [
    {
     "name": "stdout",
     "output_type": "stream",
     "text": [
      "{4, 5, 6}\n"
     ]
    }
   ],
   "source": [
    "### 70. Set Intersection: Given two sets A and B, write a Python program to find their intersection and print the common elements.\n",
    "\n",
    "set_a = {1,2,3,4,5,6}\n",
    "set_b = {9,8,7,6,5,4}\n",
    "\n",
    "common_elements = set_a.intersection(set_b)\n",
    "print(common_elements)"
   ]
  },
  {
   "cell_type": "code",
   "execution_count": 82,
   "id": "3b4e241f",
   "metadata": {},
   "outputs": [
    {
     "data": {
      "text/plain": [
       "{1, 2, 3, 4, 5, 6, 7, 8}"
      ]
     },
     "execution_count": 82,
     "metadata": {},
     "output_type": "execute_result"
    }
   ],
   "source": [
    "### 71. Set Union: Given two sets A and B, write a Python program to find their union and print all the distinct elements from both sets.\n",
    "\n",
    "set_a = {1,7,6,5}\n",
    "set_b = {2,3,4,8}\n",
    "\n",
    "distinct_elements = set_a.union(set_b)\n",
    "distinct_elements"
   ]
  },
  {
   "cell_type": "code",
   "execution_count": 83,
   "id": "361c9da3",
   "metadata": {},
   "outputs": [
    {
     "name": "stdout",
     "output_type": "stream",
     "text": [
      "elemnts present in set_a but not set_b: {1, 2, 3}\n",
      "elemnts present in set_b but not set_a: {8, 9, 7}\n"
     ]
    }
   ],
   "source": [
    "### 72. Set Difference: Given two sets A and B, write a Python program to find the difference between set A and set B (i.e., elements present in A but not in B) and print the result.\n",
    "\n",
    "set_a = {1,2,3,4,5,6}\n",
    "set_b = {9,8,7,6,5,4}\n",
    "\n",
    "diff_a = set_a.difference(set_b)\n",
    "diff_b = set_b.difference(set_a)\n",
    "\n",
    "print(f\"elemnts present in set_a but not set_b: {diff_a}\")\n",
    "print(f\"elemnts present in set_b but not set_a: {diff_b}\")"
   ]
  },
  {
   "cell_type": "code",
   "execution_count": 84,
   "id": "3c8e6fc2",
   "metadata": {},
   "outputs": [
    {
     "name": "stdout",
     "output_type": "stream",
     "text": [
      "{1, 2, 3, 7, 8, 9}\n"
     ]
    }
   ],
   "source": [
    "### 73. Set Symmetric Difference: Given two sets A and B, write a Python program to find the symmetric difference between the two sets (i.e., elements that are present in either set A or set B, but not in both) and print the result.\n",
    "\n",
    "set_a = {1,2,3,4,5,6}\n",
    "set_b = {9,8,7,6,5,4}\n",
    "\n",
    "symmetric_diff = set_a.symmetric_difference(set_b)\n",
    "print(symmetric_diff)\n"
   ]
  },
  {
   "cell_type": "code",
   "execution_count": 85,
   "id": "4b1f8eea",
   "metadata": {},
   "outputs": [
    {
     "name": "stdout",
     "output_type": "stream",
     "text": [
      "intersection of set_a and set_b is: {4, 5, 6}\n",
      "union of set_b and set_c is: {1, 2, 3, 4, 5, 6, 7, 8, 9}\n",
      "difference between set_c and set_a is: {9, 7}\n"
     ]
    }
   ],
   "source": [
    "### 74. Set Operations: Given three sets A, B, and C, write a Python program to find and print the intersection of A and B, the union of B and C, and the difference between C and A.\n",
    "\n",
    "set_a = {1,2,3,4,5,6}\n",
    "set_b = {9,8,7,6,5,4}\n",
    "set_c = {1,3,5,7,9,2}\n",
    "\n",
    "intersection_a_b = set_a.intersection(set_b)\n",
    "union_b_c = set_b.union(set_c)\n",
    "diffrence_c_a = set_c.difference(set_a)\n",
    "\n",
    "print(\"intersection of set_a and set_b is:\" ,intersection_a_b)\n",
    "print(\"union of set_b and set_c is:\", union_b_c)\n",
    "print(\"difference between set_c and set_a is:\", diffrence_c_a)\n"
   ]
  },
  {
   "cell_type": "code",
   "execution_count": 86,
   "id": "53d0615e",
   "metadata": {},
   "outputs": [
    {
     "name": "stdout",
     "output_type": "stream",
     "text": [
      "True\n"
     ]
    }
   ],
   "source": [
    "### 75. Set Subset Check: Given two sets A and B, write a Python program to check if set A is a subset of set B and print the result.\n",
    "\n",
    "set_a = {1,2,3,4}\n",
    "set_b = {9,8,7,6,5,4,3,2,1}\n",
    "\n",
    "subset = set_a.issubset(set_b)\n",
    "print(subset)"
   ]
  },
  {
   "cell_type": "code",
   "execution_count": 87,
   "id": "b3f471e5",
   "metadata": {},
   "outputs": [
    {
     "name": "stdout",
     "output_type": "stream",
     "text": [
      "False\n"
     ]
    }
   ],
   "source": [
    "### 76. Set Superset Check: Given two sets A and B, write a Python program to check if set A is a superset of set B and print the result.\n",
    "\n",
    "set_a = {1,2,3,4}\n",
    "set_b = {9,8,7,6,5,4,3,2,1}\n",
    "\n",
    "super_set = set_a.issuperset(set_b)\n",
    "print(super_set)"
   ]
  },
  {
   "cell_type": "code",
   "execution_count": 88,
   "id": "456d110f",
   "metadata": {},
   "outputs": [
    {
     "name": "stdout",
     "output_type": "stream",
     "text": [
      "9\n"
     ]
    }
   ],
   "source": [
    "### 77. Set Length Check: Write a Python program that takes a set as input and prints the number of elements in the set.\n",
    "\n",
    "set_ = {9,8,7,6,5,4,3,2,1}\n",
    "\n",
    "set_len = len(set_)\n",
    "print(set_len)\n",
    "\n"
   ]
  },
  {
   "cell_type": "code",
   "execution_count": 89,
   "id": "3942d563",
   "metadata": {},
   "outputs": [
    {
     "name": "stdout",
     "output_type": "stream",
     "text": [
      "enter integer number: 12\n",
      "12 is not found in a set\n"
     ]
    }
   ],
   "source": [
    "### 76. Set Membership Test: Write a Python program that takes an element as input and checks if it exists in a given set. Print “Found” if the element is present and “Not Found” otherwise.\n",
    "\n",
    "set_ = {9,8,7,6,5,4,3,2,1}\n",
    "\n",
    "try:\n",
    "    user_input = int(input(\"enter integer number: \"))\n",
    "    if  user_input in set_:\n",
    "        print(f\"{user_input} is found in a set\")\n",
    "    else:\n",
    "        print(f\"{user_input} is not found in a set\")\n",
    "except ValueError:\n",
    "    print(\"please enter a valid number\")\n",
    "    "
   ]
  },
  {
   "cell_type": "markdown",
   "id": "35360376",
   "metadata": {},
   "source": [
    "# Dictionary Problems:"
   ]
  },
  {
   "cell_type": "code",
   "execution_count": 90,
   "id": "da2f38ef",
   "metadata": {},
   "outputs": [
    {
     "name": "stdout",
     "output_type": "stream",
     "text": [
      "{'Sakil': 97, 'Rafi': 60, 'Jabed': 83, 'Alom': 91}\n"
     ]
    }
   ],
   "source": [
    "### 77. Dictionary Manipulation: Given a dictionary with student names as keys and their corresponding scores as values, write a Python program to add a new student to the dictionary and update the score of an existing student.\n",
    "\n",
    "students = {'Sakil': 97, 'Rafi': 60, 'Jabed': 83}\n",
    "add_student = 'Alom'\n",
    "add_score = 91\n",
    "\n",
    "if add_student in students:\n",
    "    students[add_student] = add_score\n",
    "else:\n",
    "    students.update({add_student: add_score})\n",
    "\n",
    "print(students)"
   ]
  },
  {
   "cell_type": "code",
   "execution_count": 91,
   "id": "01c07cb0",
   "metadata": {},
   "outputs": [
    {
     "name": "stdout",
     "output_type": "stream",
     "text": [
      "keys: Sakil\n",
      "value: 97\n",
      "keys: Rafi\n",
      "value: 60\n",
      "keys: Jabed\n",
      "value: 83\n"
     ]
    }
   ],
   "source": [
    "### 78. Dictionary Keys and Values: Write a Python program that takes a dictionary as input and prints all the keys and values in separate lines.\n",
    "\n",
    "dictionary = {'Sakil': 97, 'Rafi': 60, 'Jabed': 83}\n",
    "for key, value in dictionary.items():\n",
    "    print(\"keys:\",key)\n",
    "    print(\"value:\",value)"
   ]
  },
  {
   "cell_type": "code",
   "execution_count": 92,
   "id": "0a3c67b6",
   "metadata": {},
   "outputs": [
    {
     "name": "stdout",
     "output_type": "stream",
     "text": [
      "3\n"
     ]
    }
   ],
   "source": [
    "### 79. Dictionary Length: Write a Python program to calculate and print the number of key-value pairs in a given dictionary.\n",
    "\n",
    "dictionary = {'Sakil': 97, 'Rafi': 60, 'Jabed': 83}\n",
    "\n",
    "print(len(dictionary))"
   ]
  },
  {
   "cell_type": "code",
   "execution_count": 93,
   "id": "7c9a646e",
   "metadata": {},
   "outputs": [
    {
     "name": "stdout",
     "output_type": "stream",
     "text": [
      "item 3 is 400\n"
     ]
    }
   ],
   "source": [
    "### 80. Dictionary Value Search: Given a dictionary of items and their prices, write a Python program to search for an item based on its price and print the item’s name.\n",
    "\n",
    "dict_ = {\n",
    "    \"item 1\": 200,\n",
    "    \"item 2\": 300,\n",
    "    \"item 3\": 400,\n",
    "    \"item 4\": 500\n",
    "}\n",
    "\n",
    "search_price = 400\n",
    "for item,price in dict_.items():\n",
    "    if price == search_price:\n",
    "        print(f\"{item} is {search_price}\")\n",
    "        break\n",
    "else:\n",
    "    print(\"item is not found\")\n"
   ]
  },
  {
   "cell_type": "code",
   "execution_count": 94,
   "id": "fc803240",
   "metadata": {},
   "outputs": [
    {
     "name": "stdout",
     "output_type": "stream",
     "text": [
      "{'mango': 100, 'apple': 200, 'banana': 80, 'orange': 150}\n"
     ]
    }
   ],
   "source": [
    "### 81. Dictionary Merging: Given two dictionaries, write a Python program to merge them into a single dictionary and print the result.\n",
    "\n",
    "dict_1 = {\"mango\":100, \"apple\":200}\n",
    "dict_2 = {\"banana\":80, \"orange\":150}\n",
    "\n",
    "merge_dict = dict_1 | dict_2\n",
    "print(merge_dict)"
   ]
  },
  {
   "cell_type": "code",
   "execution_count": 95,
   "id": "812ea788",
   "metadata": {},
   "outputs": [
    {
     "name": "stdout",
     "output_type": "stream",
     "text": [
      "before removing {'mango': 10, 'apple': 20, 'banana': 30, 'orange': 40}\n",
      "\n",
      "enter an item to be remove: 10\n",
      "\n",
      "10 is not presetn in {'mango': 10, 'apple': 20, 'banana': 30, 'orange': 40}\n",
      "\n",
      "after removing {'mango': 10, 'apple': 20, 'banana': 30, 'orange': 40}\n"
     ]
    }
   ],
   "source": [
    "### 82. Dictionary Key Removal: Given a dictionary of items and their quantities, write a Python program to remove a specific item from the dictionary based on user input.\n",
    "\n",
    "dict_ = {\"mango\":10, \"apple\":20,\"banana\":30,\"orange\":40}\n",
    "print(\"before removing\",dict_)\n",
    "\n",
    "try:\n",
    "    user_input = input(\"\\nenter an item to be remove: \")\n",
    "    if user_input in dict_:\n",
    "        del dict_[user_input]\n",
    "        print(f\"\\n{user_input} removed successfully\")\n",
    "    else:\n",
    "        print(f\"\\n{user_input} is not presetn in {dict_}\")\n",
    "        \n",
    "    print(\"\\nafter removing\",dict_)\n",
    "        \n",
    "except ValueError:\n",
    "    print(\"please enter a valid value\")"
   ]
  },
  {
   "cell_type": "code",
   "execution_count": 96,
   "id": "870f9aca",
   "metadata": {},
   "outputs": [
    {
     "name": "stdout",
     "output_type": "stream",
     "text": [
      "abdullah 5\n",
      "jabed 26\n",
      "rafi 27\n",
      "sakil 28\n"
     ]
    }
   ],
   "source": [
    "### 83. Dictionary Sorting: Given a dictionary with names as keys and corresponding ages as values, write a Python program to sort the dictionary based on age in ascending order.\n",
    "\n",
    "from operator import itemgetter\n",
    "\n",
    "dict_ = {\"sakil\":28,\"rafi\":27,\"jabed\":26,\"abdullah\":5}\n",
    "item = sorted(dict_.items(), key=itemgetter(1))\n",
    "\n",
    "sorted_dict = dict(item)\n",
    "\n",
    "for key,value in sorted_dict.items():\n",
    "    print(key,value)"
   ]
  },
  {
   "cell_type": "code",
   "execution_count": 97,
   "id": "0dfc54b2",
   "metadata": {},
   "outputs": [
    {
     "name": "stdout",
     "output_type": "stream",
     "text": [
      "Enter a string: study mart\n",
      "Character Frequency Dictionary:\n",
      "'s': 1\n",
      "'t': 2\n",
      "'u': 1\n",
      "'d': 1\n",
      "'y': 1\n",
      "' ': 1\n",
      "'m': 1\n",
      "'a': 1\n",
      "'r': 1\n"
     ]
    }
   ],
   "source": [
    "### 84. Dictionary Frequency Count: Write a Python program that takes a string as input and creates a dictionary containing each character as a key and its frequency as the value.\n",
    "\n",
    "from collections import Counter\n",
    "\n",
    "user_input = input(\"Enter a string: \")\n",
    "\n",
    "frequency_dict = Counter(user_input)\n",
    "\n",
    "print(\"Character Frequency Dictionary:\")\n",
    "for char, frequency in frequency_dict.items():\n",
    "    print(f\"'{char}': {frequency}\")\n"
   ]
  },
  {
   "cell_type": "code",
   "execution_count": 98,
   "id": "c6f7ffbb",
   "metadata": {},
   "outputs": [
    {
     "name": "stdout",
     "output_type": "stream",
     "text": [
      "{1: 1, 2: 4, 3: 9, 4: 16, 5: 25}\n"
     ]
    }
   ],
   "source": [
    "### 85. Dictionary Comprehension: Given a list of integers, write a Python program to create a dictionary where the keys are the elements from the list, and the values are their squares.\n",
    "\n",
    "lst = [1, 2, 3, 4, 5]\n",
    "squared_dict = {num: num**2 for num in lst}\n",
    "print(squared_dict)"
   ]
  },
  {
   "cell_type": "code",
   "execution_count": 102,
   "id": "14482c1a",
   "metadata": {},
   "outputs": [
    {
     "name": "stdout",
     "output_type": "stream",
     "text": [
      "Enter a key to check: banana\n",
      "Key Found\n"
     ]
    }
   ],
   "source": [
    "### 86. Dictionary Key Check: Write a Python program that takes a key as input and checks if it exists in a given dictionary. Print “Key Found” if the key is present and “Key Not Found” otherwise.\n",
    "\n",
    "_dict = {\"apple\": 10, \"banana\": 8, \"orange\": 15, \"grape\": 87}\n",
    "\n",
    "user_input = input(\"Enter a key to check: \")\n",
    "\n",
    "if user_input in _dict:\n",
    "    print(\"Key Found\")\n",
    "else:\n",
    "    print(\"Key Not Found\")\n"
   ]
  },
  {
   "cell_type": "markdown",
   "id": "4c93638a",
   "metadata": {},
   "source": [
    "# Nested Dictionary Problems:"
   ]
  },
  {
   "cell_type": "code",
   "execution_count": 103,
   "id": "8fb1c7a1",
   "metadata": {},
   "outputs": [
    {
     "name": "stdout",
     "output_type": "stream",
     "text": [
      "Enter student ID (e.g., student1, student2): student1\n",
      "Name: sakil\n",
      "Age: 28\n",
      "Address: germany\n"
     ]
    }
   ],
   "source": [
    "### 87. Access Nested Dictionary: Given a nested dictionary containing student details, write a Python program to access and print specific information such as a student’s name, age, and address.\n",
    "\n",
    "student_details = {\n",
    "    \"student1\": {\n",
    "        \"name\": \"sakil\",\n",
    "        \"age\": 28,\n",
    "        \"address\": \"germany\"\n",
    "    },\n",
    "    \"student2\": {\n",
    "        \"name\": \"rafi\",\n",
    "        \"age\": 28,\n",
    "        \"address\": \"bangladesh\"\n",
    "    }\n",
    "}\n",
    "\n",
    "student_id = input(\"Enter student ID (e.g., student1, student2): \")\n",
    "\n",
    "if student_id in student_details:\n",
    "    student_info = student_details[student_id]\n",
    "    print(f\"Name: {student_info['name']}\")\n",
    "    print(f\"Age: {student_info['age']}\")\n",
    "    print(f\"Address: {student_info['address']}\")\n",
    "else:\n",
    "    print(\"Student ID not found\")\n"
   ]
  },
  {
   "cell_type": "code",
   "execution_count": 104,
   "id": "bebc4d8f",
   "metadata": {},
   "outputs": [
    {
     "name": "stdout",
     "output_type": "stream",
     "text": [
      "Total number of key-value pairs: 7\n"
     ]
    }
   ],
   "source": [
    "### 88. Nested Dictionary Length: Write a Python program to calculate and print the total number of key-value pairs in a nested dictionary.\n",
    "\n",
    "dict_n = {\n",
    "    'name': 'sakil',\n",
    "    'who is he?': {\n",
    "        'founder': 'study mart',\n",
    "        'instructor': 'ds and ml'\n",
    "    },\n",
    "    'c': {\n",
    "        'c1': 6,\n",
    "        'c2': 7\n",
    "    }\n",
    "}\n",
    "\n",
    "count = 0\n",
    "dict_ = [dict_n]\n",
    "\n",
    "while dict_:\n",
    "    current_dict = dict_.pop()\n",
    "    for key, value in current_dict.items():\n",
    "        count = count + 1\n",
    "        if isinstance(value, dict):\n",
    "            dict_.append(value)\n",
    "print(f'Total number of key-value pairs: {count}')\n"
   ]
  },
  {
   "cell_type": "code",
   "execution_count": 105,
   "id": "6058cc62",
   "metadata": {},
   "outputs": [
    {
     "name": "stdout",
     "output_type": "stream",
     "text": [
      "{'emp1': {'name': 'mr.x', 'department': 'Engineering', 'salary': 80000, 'id': 'E1234'}, 'emp2': {'name': 'mr.y', 'department': 'Marketing', 'salary': 65000, 'id': 'M1234'}, 'emp3': {'name': 'mr.z', 'department': 'Finance', 'salary': 72000, 'id': 'F1234'}}\n"
     ]
    }
   ],
   "source": [
    "### 89. Nested Dictionary Update: Given a nested dictionary of employee details, write a Python program to update an employee’s salary based on their employee ID.\n",
    "\n",
    "employees = {\n",
    "    'emp1': {\n",
    "        'name': 'mr.x',\n",
    "        'department': 'Engineering',\n",
    "        'salary': 75000,\n",
    "        'id': 'E1234'\n",
    "    },\n",
    "    'emp2': {\n",
    "        'name': 'mr.y',\n",
    "        'department': 'Marketing',\n",
    "        'salary': 65000,\n",
    "        'id': 'M1234'\n",
    "    },\n",
    "    'emp3': {\n",
    "        'name': 'mr.z',\n",
    "        'department': 'Finance',\n",
    "        'salary': 72000,\n",
    "        'id': 'F1234'\n",
    "    }\n",
    "}\n",
    "\n",
    "emp_id = 'E1234'\n",
    "new_salary = 80000\n",
    "\n",
    "employees = {\n",
    "    key: {**details, 'salary': new_salary} if details['id'] == emp_id else details\n",
    "    for key, details in employees.items()\n",
    "}\n",
    "\n",
    "print(employees)\n"
   ]
  },
  {
   "cell_type": "code",
   "execution_count": 106,
   "id": "dcbd2c83",
   "metadata": {},
   "outputs": [
    {
     "name": "stdout",
     "output_type": "stream",
     "text": [
      "banana {'price': 80, 'quantity': 200}\n",
      "mango {'price': 150, 'quantity': 56}\n",
      "apple {'price': 200, 'quantity': 100}\n",
      "orange {'price': 250, 'quantity': 143}\n"
     ]
    }
   ],
   "source": [
    "### 90. Nested Dictionary Sorting: Given a nested dictionary containing product details (product name, price, and quantity), write a Python program to sort the products based on their prices in ascending order.\n",
    "\n",
    "product_details = {\n",
    "    'mango': {'price': 150, 'quantity': 56},\n",
    "    'apple': {'price': 200, 'quantity': 100},\n",
    "    'banana': {'price': 80, 'quantity': 200},\n",
    "    'orange': {'price': 250, 'quantity': 143}\n",
    "}\n",
    "\n",
    "sorted_products = sorted(product_details.items(), key=lambda x: x[1][\"price\"])\n",
    "\n",
    "sorted_dict = dict(sorted_products)\n",
    "\n",
    "for key, value in sorted_dict.items():\n",
    "    print(key, value)\n"
   ]
  },
  {
   "cell_type": "code",
   "execution_count": 107,
   "id": "65eb8b27",
   "metadata": {},
   "outputs": [
    {
     "name": "stdout",
     "output_type": "stream",
     "text": [
      "Enter the key to search: banana\n",
      "The corresponding value is:  {'price': 80, 'quantity': 200}\n"
     ]
    }
   ],
   "source": [
    "### 91. Nested Dictionary Key Search: Write a Python program that takes a key as input and searches for it in a nested dictionary. If found, print the corresponding value, otherwise, print “Key Not Found.”\n",
    "\n",
    "\n",
    "product_details = {\n",
    "    'mango': {'price': 150, 'quantity': 56},\n",
    "    'apple': {'price': 200, 'quantity': 100},\n",
    "    'banana': {'price': 80, 'quantity': 200},\n",
    "    'orange': {'price': 250, 'quantity': 143}\n",
    "}\n",
    "\n",
    "\n",
    "key = input(\"Enter the key to search: \")\n",
    "if key in product_details:\n",
    "    print(\"The corresponding value is: \", product_details[key])\n",
    "else:\n",
    "    print(\"Key Not Found.\")"
   ]
  },
  {
   "cell_type": "markdown",
   "id": "ef06f2eb",
   "metadata": {},
   "source": [
    "# Break & Continue:"
   ]
  },
  {
   "cell_type": "code",
   "execution_count": 108,
   "id": "7ffb0072",
   "metadata": {},
   "outputs": [
    {
     "name": "stdout",
     "output_type": "stream",
     "text": [
      "Enter a number to check if it is prime: 31\n",
      "31 is a prime number.\n"
     ]
    }
   ],
   "source": [
    "### 92. Prime Number Checker: Write a Python program that takes a number as input and determines if it is a prime number or not. Use a `for` loop to check for factors. If a factor is found, `break` out of the loop.\n",
    "\n",
    "try:\n",
    "    num = int(input(\"Enter a number to check if it is prime: \"))\n",
    "\n",
    "    is_prime = True\n",
    "\n",
    "    if num <= 1:\n",
    "        is_prime = False\n",
    "    else:\n",
    "        for i in range(2, int(num**0.5)+1):\n",
    "            if num % i == 0:\n",
    "                is_prime = False\n",
    "                break\n",
    "    if is_prime:\n",
    "        print(f\"{num} is a prime number.\")\n",
    "    else:\n",
    "        print(f\"{num} is not a prime number.\")\n",
    "\n",
    "except ValueError:\n",
    "    print(\"please enter a valid value\")\n"
   ]
  },
  {
   "cell_type": "code",
   "execution_count": 109,
   "id": "2b51c2db",
   "metadata": {},
   "outputs": [
    {
     "name": "stdout",
     "output_type": "stream",
     "text": [
      "2\n",
      "4\n",
      "6\n",
      "8\n",
      "10\n",
      "12\n",
      "14\n",
      "16\n"
     ]
    }
   ],
   "source": [
    "### 93. Even Number Printer: Write a Python program to print all even numbers from 1 to 20. Use a `for` loop and `continue` to skip odd numbers.\n",
    "\n",
    "for i in range(1, 17):\n",
    "    if i % 2 != 0:\n",
    "        continue\n",
    "    print(i)"
   ]
  },
  {
   "cell_type": "code",
   "execution_count": 110,
   "id": "8e6b3227",
   "metadata": {},
   "outputs": [
    {
     "name": "stdout",
     "output_type": "stream",
     "text": [
      "Enter a password: study_mart@\n",
      "Password must be at least 8 characters long, contain both uppercase and lowercase letters, and have at least one digit. Please try again.\n",
      "Enter a password: Study_Mart@\n",
      "Password must be at least 8 characters long, contain both uppercase and lowercase letters, and have at least one digit. Please try again.\n",
      "Enter a password: Study_mart12\n",
      "Password accepted.\n"
     ]
    }
   ],
   "source": [
    "### 94. Password Validator: Write a Python program that takes a password as input and checks if it meets the following criteria: at least 8 characters long, contains both uppercase and lowercase letters, and has at least one digit. If the password is valid, print “Password accepted.” If not, use `continue` to prompt the user to enter a valid password.\n",
    "\n",
    "\n",
    "while True:\n",
    "    password = input(\"Enter a password: \")\n",
    "    \n",
    "    if (\n",
    "        len(password) >= 8 and \n",
    "        any(char.isupper() for char in password) and \n",
    "        any(char.islower() for char in password) and \n",
    "        any(char.isdigit() for char in password)\n",
    "    ):\n",
    "        print(\"Password accepted.\")\n",
    "        break\n",
    "    else:\n",
    "        print(\"Password must be at least 8 characters long, contain both uppercase and lowercase letters, and have at least one digit. Please try again.\")\n",
    "        continue\n"
   ]
  },
  {
   "cell_type": "code",
   "execution_count": 111,
   "id": "dccd5e78",
   "metadata": {},
   "outputs": [
    {
     "name": "stdout",
     "output_type": "stream",
     "text": [
      "3\n",
      "5\n",
      "6\n",
      "9\n",
      "10\n",
      "12\n",
      "15\n",
      "18\n",
      "20\n",
      "21\n",
      "24\n",
      "25\n",
      "27\n",
      "30\n",
      "33\n",
      "35\n",
      "36\n",
      "39\n",
      "40\n",
      "42\n",
      "45\n",
      "48\n",
      "50\n"
     ]
    }
   ],
   "source": [
    "### 95. Divisible by 3 or 5: Write a Python program to print all numbers from 1 to 50 that are divisible by either 3 or 5. Use a `for` loop and `continue` to skip numbers that are not divisible by either 3 or 5.\n",
    "\n",
    "for num in range(1, 51):\n",
    "    if num % 3 != 0 and num % 5 != 0:\n",
    "        continue\n",
    "    print(num)\n"
   ]
  },
  {
   "cell_type": "code",
   "execution_count": 112,
   "id": "12998cd2",
   "metadata": {},
   "outputs": [
    {
     "name": "stdout",
     "output_type": "stream",
     "text": [
      "Enter a number: 12\n",
      "Enter a number: 12\n",
      "Enter a number: 12\n",
      "Enter a number: -1\n",
      "The sum of all positive numbers entered is:  36\n"
     ]
    }
   ],
   "source": [
    "### 96. Positive Number Sum: Write a Python program that takes positive numbers as input until a negative number is entered. Then, calculate and print the sum of all positive numbers entered. Use a `while` loop and `break` to exit the loop when a negative number is encountered.\n",
    "\n",
    "try:\n",
    "    total = 0\n",
    "    while True:\n",
    "        num = int(input(\"Enter a number: \"))\n",
    "        if num < 0:\n",
    "            break\n",
    "        total = total + num\n",
    "    print(\"The sum of all positive numbers entered is: \", total)\n",
    "\n",
    "except ValueError:\n",
    "    print(\"enter positive number for summation enter negative number for break the loop\")"
   ]
  },
  {
   "cell_type": "code",
   "execution_count": 113,
   "id": "a43de097",
   "metadata": {},
   "outputs": [
    {
     "name": "stdout",
     "output_type": "stream",
     "text": [
      "Enter a word: study\n",
      "study is not a palindrome.\n"
     ]
    }
   ],
   "source": [
    "### 97. Word Palindrome Checker: Write a Python program that takes a word as input and checks if it is a palindrome (reads the same forwards and backward). Use `continue` to skip checking the word if its length is less than 3 characters.\n",
    "\n",
    "while True:\n",
    "    user_input = input(\"Enter a word: \")\n",
    "    if len(user_input) < 3:\n",
    "        continue\n",
    "    if user_input == user_input[::-1]:\n",
    "        print(f\"{user_input} is a palindrome.\")\n",
    "        break\n",
    "    else:\n",
    "        print(f\"{user_input} is not a palindrome.\")\n",
    "        break\n"
   ]
  },
  {
   "cell_type": "code",
   "execution_count": 114,
   "id": "4f81733c",
   "metadata": {},
   "outputs": [
    {
     "name": "stdout",
     "output_type": "stream",
     "text": [
      "The first odd number is: 9\n"
     ]
    }
   ],
   "source": [
    "### 98. Odd Number Finder: Write a Python program to find the first odd number from a list of integers. Use a `for` loop and `break` to stop the loop when the first odd number is found.\n",
    "\n",
    "numbers = [2, 4, 6, 8, 9, 10, 11, 12, 14, 16]\n",
    "\n",
    "for num in numbers:\n",
    "    if num % 2 != 0:\n",
    "        print(f\"The first odd number is: {num}\")\n",
    "        break\n"
   ]
  },
  {
   "cell_type": "code",
   "execution_count": 115,
   "id": "de39a679",
   "metadata": {},
   "outputs": [
    {
     "name": "stdout",
     "output_type": "stream",
     "text": [
      "Guess the number: 20\n",
      "Too low, try again.\n",
      "Guess the number: 50\n",
      "Too high, try again.\n",
      "Guess the number: 30\n",
      "Too high, try again.\n",
      "Guess the number: 25\n",
      "Congratulations, you guessed the number!\n"
     ]
    }
   ],
   "source": [
    "### 99. Number Guessing Game: Write a Python program that generates a random number between 1 and 100 and lets the user guess the number. Use a `while` loop, `break` when the correct number is guessed, and `continue` to keep prompting the user until they guess correctly.\n",
    "\n",
    "import random\n",
    "\n",
    "min_number = 1\n",
    "max_number = 100\n",
    "\n",
    "\n",
    "random_number = random.randint(min_number, max_number)\n",
    "\n",
    "while True:\n",
    "    guess = int(input(\"Guess the number: \"))\n",
    "    if guess < random_number:\n",
    "        print(\"Too low, try again.\")\n",
    "        continue\n",
    "    elif guess > random_number:\n",
    "        print(\"Too high, try again.\")\n",
    "        continue\n",
    "    else:\n",
    "        print(\"Congratulations, you guessed the number!\")\n",
    "        break"
   ]
  },
  {
   "cell_type": "code",
   "execution_count": 116,
   "id": "cba85641",
   "metadata": {},
   "outputs": [
    {
     "name": "stdout",
     "output_type": "stream",
     "text": [
      "Enter a string: study mart\n",
      "The number of vowels in the string is:  2\n"
     ]
    }
   ],
   "source": [
    "### 100. Vowel Counter: Write a Python program that takes a string as input and counts the number of vowels (a, e, i, o, u) in it. Use a `for` loop and `continue` to skip counting non-vowel characters.\n",
    "\n",
    "user_input = input(\"Enter a string: \").lower()\n",
    "vowels = \"aeiou\"\n",
    "count = 0\n",
    "for char in user_input:\n",
    "    if char in vowels:\n",
    "        count = count + 1\n",
    "print(\"The number of vowels in the string is: \", count)"
   ]
  },
  {
   "cell_type": "code",
   "execution_count": 119,
   "id": "2dc7db89",
   "metadata": {},
   "outputs": [
    {
     "name": "stdout",
     "output_type": "stream",
     "text": [
      "Enter a string: study\n",
      "The string contains all unique characters.\n"
     ]
    }
   ],
   "source": [
    "### 101. Unique Characters: Write a Python program that takes a string as input and checks if it contains all unique characters (no character repeats). Use a `for` loop and `break` when a character repeats.\n",
    "\n",
    "\n",
    "user_input = input(\"Enter a string: \")\n",
    "unique = True\n",
    "for char in user_input:\n",
    "    if user_input.count(char) > 1:\n",
    "        unique = False\n",
    "        break\n",
    "if unique:\n",
    "    print(\"The string contains all unique characters.\")\n",
    "else:\n",
    "    print(\"The string does not contain all unique characters.\")"
   ]
  },
  {
   "cell_type": "markdown",
   "id": "4785d000",
   "metadata": {},
   "source": [
    "# Functions Problems:"
   ]
  },
  {
   "cell_type": "code",
   "execution_count": 120,
   "id": "1850342c",
   "metadata": {},
   "outputs": [
    {
     "name": "stdout",
     "output_type": "stream",
     "text": [
      "Factorial of 5 is:  120\n",
      "Factorial of 10 is:  3628800\n"
     ]
    }
   ],
   "source": [
    "### 102. Factorial Calculator: Write a Python function called `factorial` that takes an integer as input and returns its factorial. Test the function with different values.\n",
    "\n",
    "\n",
    "def factorial(n):\n",
    "    if n == 0:\n",
    "        return 1\n",
    "    else:\n",
    "        return n * factorial(n-1)\n",
    "\n",
    "print(\"Factorial of 5 is: \", factorial(5))\n",
    "print(\"Factorial of 10 is: \", factorial(10))"
   ]
  },
  {
   "cell_type": "code",
   "execution_count": 121,
   "id": "a64ec3de",
   "metadata": {},
   "outputs": [
    {
     "name": "stdout",
     "output_type": "stream",
     "text": [
      "Is '121' a palindrome?  True\n",
      "Is 'madam' a palindrome?  True\n",
      "Is 'study' a palindrome?  False\n"
     ]
    }
   ],
   "source": [
    "### 103. Palindrome Checker: Write a Python function called `is_palindrome` that takes a string as input and returns `True` if it is a palindrome and `False` otherwise. Test the function with different words.\n",
    "\n",
    "def is_palindrome(p):\n",
    "    p = p.lower()\n",
    "    return p == p[::-1]\n",
    "\n",
    "print(\"Is '121' a palindrome? \", is_palindrome(\"121\"))\n",
    "print(\"Is 'madam' a palindrome? \", is_palindrome(\"madam\"))\n",
    "print(\"Is 'study' a palindrome? \", is_palindrome(\"study\"))"
   ]
  },
  {
   "cell_type": "code",
   "execution_count": 122,
   "id": "935c55d3",
   "metadata": {},
   "outputs": [
    {
     "name": "stdout",
     "output_type": "stream",
     "text": [
      "Is 59 even or odd?  Odd\n",
      "Is 10 even or odd?  Even\n"
     ]
    }
   ],
   "source": [
    "### 104. Even or Odd Checker: Write a Python function called `even_or_odd` that takes an integer as input and returns “Even” if the number is even and “Odd” if the number is odd. Test the function with different numbers.\n",
    "\n",
    "def even_or_odd(n):\n",
    "    if n % 2 == 0:\n",
    "        return \"Even\"\n",
    "    else:\n",
    "        return \"Odd\"\n",
    "\n",
    "print(\"Is 59 even or odd? \", even_or_odd(59))\n",
    "print(\"Is 10 even or odd? \", even_or_odd(1002))"
   ]
  },
  {
   "cell_type": "code",
   "execution_count": 123,
   "id": "c6ba7daa",
   "metadata": {},
   "outputs": [
    {
     "name": "stdout",
     "output_type": "stream",
     "text": [
      "Sum of [1, 2, 3, 4, 5,6,7,8,9,10] is:  55\n",
      "Sum of [10, 20, 30, 40, 50,65,68,78,98] is:  459\n"
     ]
    }
   ],
   "source": [
    "### 105. List Sum Calculator: Write a Python function called `list_sum` that takes a list of integers as input and returns the sum of all elements in the list. Test the function with different lists.\n",
    "\n",
    "def sum_of_list(lst):\n",
    "    return sum(lst)\n",
    "\n",
    "print(\"Sum of [1, 2, 3, 4, 5,6,7,8,9,10] is: \", sum_of_list([1, 2, 3, 4, 5, 6, 7, 8, 9, 10]))\n",
    "print(\"Sum of [10, 20, 30, 40, 50,65,68,78,98] is: \", sum_of_list([10, 20, 30, 40, 50, 65, 68, 78, 98]))"
   ]
  },
  {
   "cell_type": "code",
   "execution_count": 124,
   "id": "dd6b78fc",
   "metadata": {},
   "outputs": [
    {
     "name": "stdout",
     "output_type": "stream",
     "text": [
      "Enter the first number: 12\n",
      "Enter the second number:21\n",
      "\n",
      "The GCD of 12 and 21 is: 3\n"
     ]
    }
   ],
   "source": [
    "### 106. Greatest Common Divisor (GCD) Calculator: Write a Python function called `gcd` that takes two integers as input and returns their greatest common divisor. Test the function with different pairs of numbers.\n",
    "\n",
    "def gcd(a, b):\n",
    "    while b:\n",
    "        a, b = b, a % b\n",
    "    return a\n",
    "\n",
    "num1 = int(input(\"Enter the first number: \"))\n",
    "num2 = int(input(\"Enter the second number:\"))\n",
    "print(\"\\nThe GCD of\", num1, \"and\", num2, \"is:\", gcd(num1, num2))"
   ]
  },
  {
   "cell_type": "code",
   "execution_count": 125,
   "id": "787612f6",
   "metadata": {},
   "outputs": [
    {
     "name": "stdout",
     "output_type": "stream",
     "text": [
      "Enter a year: 1899\n",
      "1899 is not a leap year.\n"
     ]
    }
   ],
   "source": [
    "### 107. Leap Year Checker: Write a Python function called `is_leap_year` that takes a year as input and returns `True` if it is a leap year and `False` otherwise. Test the function with different years.\n",
    "\n",
    "try:\n",
    "    def is_leap_year(year):\n",
    "        if (year % 4) == 0:\n",
    "            if (year % 100) == 0:\n",
    "                if (year % 400) == 0:\n",
    "                    return True\n",
    "                else:\n",
    "                    return False\n",
    "            else:\n",
    "                return True\n",
    "        else:\n",
    "            return False\n",
    "\n",
    "    year = int(input(\"Enter a year: \"))\n",
    "    if is_leap_year(year):\n",
    "        print(year, \"is a leap year.\")\n",
    "    else:\n",
    "        print(year, \"is not a leap year.\")\n",
    "        \n",
    "except ValueError as e:\n",
    "    print(e)"
   ]
  },
  {
   "cell_type": "markdown",
   "id": "c4d40c73",
   "metadata": {},
   "source": [
    "# Nested Functions Problems:"
   ]
  },
  {
   "cell_type": "code",
   "execution_count": 126,
   "id": "7de38ffb",
   "metadata": {},
   "outputs": [
    {
     "ename": "SyntaxError",
     "evalue": "'return' outside function (1062857082.py, line 22)",
     "output_type": "error",
     "traceback": [
      "\u001b[1;36m  File \u001b[1;32m\"C:\\Users\\Rafi\\AppData\\Local\\Temp\\ipykernel_19488\\1062857082.py\"\u001b[1;36m, line \u001b[1;32m22\u001b[0m\n\u001b[1;33m    return operations[operation](num1, num2, num3)\u001b[0m\n\u001b[1;37m    ^\u001b[0m\n\u001b[1;31mSyntaxError\u001b[0m\u001b[1;31m:\u001b[0m 'return' outside function\n"
     ]
    }
   ],
   "source": [
    "### 108. Math Operations: Write a Python function called `math_operations` that takes three numbers and a string representing an operation (‘add’, ‘subtract’, ‘multiply’, or ‘divide’). The function should return the result of the specified operation on the three numbers. Implement the math operations as nested functions.\n",
    "\n",
    "def math_operations(num1, num2, num3, operation):\n",
    "    def add(a, b, c):\n",
    "        return a + b + c\n",
    "\n",
    "    def subtract(a, b, c):\n",
    "        return a - b - c\n",
    "\n",
    "    def multiply(a, b, c):\n",
    "        return a * b * c\n",
    "\n",
    "        try:\n",
    "            return a / b / c\n",
    "        except ZeroDivisionError:\n",
    "            return \"Error: Division by zero.\"\n",
    "\n",
    "    operations = {'add': add, 'subtract': subtract, 'multiply': multiply, 'divide': divide}\n",
    "    return operations[operation](num1, num2, num3)\n",
    "\n",
    "if operation in operations:\n",
    "    return operations[operation](num1, num2, num3)\n",
    "else:\n",
    "    return \"Error: Invalid operation.\"\n",
    "\n",
    "# Example usage\n",
    "num1 = float(input(\"Enter the first number: \"))\n",
    "num2 = float(input(\"Enter the second number: \"))\n",
    "num3 = float(input(\"Enter the third number: \"))\n",
    "operation = input(\"Enter the operation (add, subtract, multiply, divide): \").lower()\n",
    "\n",
    "result = math_operations(num1, num2, num3, operation)\n",
    "print(\"The result is:\", result)\n",
    "\n"
   ]
  },
  {
   "cell_type": "code",
   "execution_count": 127,
   "id": "f07697f1",
   "metadata": {},
   "outputs": [
    {
     "name": "stdout",
     "output_type": "stream",
     "text": [
      "Enter the first number: 12\n",
      "Enter the second number: 21\n",
      "Enter the third number: 32\n",
      "Enter the operation (add, subtract, multiply, divide): add\n",
      "The result is: 65.0\n"
     ]
    }
   ],
   "source": [
    "def math_operations(num1, num2, num3, operation):\n",
    "    def add(a, b, c):\n",
    "        return a + b + c\n",
    "\n",
    "    def subtract(a, b, c):\n",
    "        return a - b - c\n",
    "\n",
    "    def multiply(a, b, c):\n",
    "        return a * b * c\n",
    "\n",
    "    def divide(a, b, c):\n",
    "        try:\n",
    "            return a / b / c\n",
    "        except ZeroDivisionError:\n",
    "            return \"Error: Division by zero.\"\n",
    "\n",
    "    operations = {\n",
    "        'add': add,\n",
    "        'subtract': subtract,\n",
    "        'multiply': multiply,\n",
    "        'divide': divide\n",
    "    }\n",
    "\n",
    "    if operation in operations:\n",
    "        return operations[operation](num1, num2, num3)\n",
    "    else:\n",
    "        return \"Error: Invalid operation.\"\n",
    "\n",
    "num1 = float(input(\"Enter the first number: \"))\n",
    "num2 = float(input(\"Enter the second number: \"))\n",
    "num3 = float(input(\"Enter the third number: \"))\n",
    "operation = input(\"Enter the operation (add, subtract, multiply, divide): \").lower()\n",
    "\n",
    "result = math_operations(num1, num2, num3, operation)\n",
    "print(\"The result is:\", result)\n"
   ]
  },
  {
   "cell_type": "code",
   "execution_count": 128,
   "id": "39576c21",
   "metadata": {},
   "outputs": [
    {
     "name": "stdout",
     "output_type": "stream",
     "text": [
      "Hello, Mr.X! How are you today?\n",
      "Hi, Mr.Y! Nice to see you!\n"
     ]
    }
   ],
   "source": [
    "### 109. Greeting Generator: Write a Python function called `greeting_generator` that takes a name as input and returns a greeting message using nested functions. The greeting message should be customizable (e.g., “Hello, {name}! How are you today?”).\n",
    "\n",
    "def greeting_generator(name, template=\"Hello, {name}! How are you today?\"):\n",
    "    def generate_message():\n",
    "        return template.format(name=name)\n",
    "    \n",
    "    return generate_message()\n",
    "\n",
    "print(greeting_generator(\"Mr.X\"))\n",
    "print(greeting_generator(\"Mr.Y\", \"Hi, {name}! Nice to see you!\"))\n"
   ]
  },
  {
   "cell_type": "code",
   "execution_count": 129,
   "id": "5fdd7a3e",
   "metadata": {},
   "outputs": [
    {
     "name": "stdout",
     "output_type": "stream",
     "text": [
      "32 C in Fahrenheit is:  89.6\n",
      "98.6 F in Celsius is:  37.0\n"
     ]
    }
   ],
   "source": [
    "### 110. Temperature Converter: Write a Python function called `temperature_converter` that takes a temperature value and a string representing the scale (‘C’ for Celsius or ‘F’ for Fahrenheit) as input. The function should convert the temperature from one scale to the other using nested functions and return the converted value.\n",
    "\n",
    "def temperature_converter(temperature, scale):\n",
    "    def celsius_to_fahrenheit(celsius):\n",
    "        return (celsius * 9/5) + 32\n",
    "\n",
    "    def fahrenheit_to_celsius(fahrenheit):\n",
    "        return (fahrenheit - 32) * 5/9\n",
    "\n",
    "    if scale == 'C':\n",
    "        return celsius_to_fahrenheit(temperature)\n",
    "    elif scale == 'F':\n",
    "        return fahrenheit_to_celsius(temperature)\n",
    "    else:\n",
    "        raise ValueError(\"Scale must be 'C' for Celsius or 'F' for Fahrenheit.\")\n",
    "\n",
    "print(\"32 C in Fahrenheit is: \", temperature_converter(32, 'C'))\n",
    "print(\"98.6 F in Celsius is: \", temperature_converter(98.6, 'F'))\n"
   ]
  },
  {
   "cell_type": "code",
   "execution_count": 130,
   "id": "e9c43b74",
   "metadata": {},
   "outputs": [
    {
     "name": "stdout",
     "output_type": "stream",
     "text": [
      "120\n",
      "1\n",
      "5040\n"
     ]
    }
   ],
   "source": [
    "### 111. Factorial Calculation: Write a recursive Python function called `factorial` that takes a non-negative integer as input and returns its factorial.\n",
    "\n",
    "def factorial(n):\n",
    "    if n < 0:\n",
    "        raise ValueError(\"Input must be a non-negative integer.\")\n",
    "    if n == 0 or n == 1:\n",
    "        return 1\n",
    "    else:\n",
    "        return n * factorial(n - 1)\n",
    "\n",
    "print(factorial(5))\n",
    "print(factorial(0))  \n",
    "print(factorial(7))   \n"
   ]
  },
  {
   "cell_type": "code",
   "execution_count": 131,
   "id": "6925066e",
   "metadata": {},
   "outputs": [
    {
     "name": "stdout",
     "output_type": "stream",
     "text": [
      "0\n",
      "1\n",
      "5\n",
      "55\n"
     ]
    }
   ],
   "source": [
    "### 112. Fibonacci Series: Write a recursive Python function called `Fibonacci` that takes an integer N as input and returns the Nth number in the Fibonacci series. The Fibonacci series is defined as follows: F(0) = 0, F(1) = 1, and F(n) = F(n-1) + F(n-2) for n > 1.\n",
    "\n",
    "def Fibonacci(N):\n",
    "    if N < 0:\n",
    "        raise ValueError(\"Input must be a non-negative integer.\")\n",
    "    if N == 0:\n",
    "        return 0\n",
    "    elif N == 1:\n",
    "        return 1\n",
    "    else:\n",
    "        return Fibonacci(N - 1) + Fibonacci(N - 2)\n",
    "\n",
    "\n",
    "print(Fibonacci(0)) \n",
    "print(Fibonacci(1))\n",
    "print(Fibonacci(5))\n",
    "print(Fibonacci(10))\n"
   ]
  },
  {
   "cell_type": "code",
   "execution_count": 132,
   "id": "9301af75",
   "metadata": {},
   "outputs": [
    {
     "name": "stdout",
     "output_type": "stream",
     "text": [
      "Sum of digits of 1234 is:  10\n",
      "Sum of digits of 4568 is:  23\n"
     ]
    }
   ],
   "source": [
    "### 113. The sum of Digits: Write a recursive Python function called `sum_of_digits` that takes an integer as input and returns the sum of its digits.\n",
    "\n",
    "def sum_of_digits(n):\n",
    "    if n < 10:\n",
    "        return n\n",
    "    else:\n",
    "        return n % 10 + sum_of_digits(n // 10)\n",
    "\n",
    "print(\"Sum of digits of 1234 is: \", sum_of_digits(1234))\n",
    "print(\"Sum of digits of 4568 is: \", sum_of_digits(4568))"
   ]
  },
  {
   "cell_type": "code",
   "execution_count": 133,
   "id": "877a5779",
   "metadata": {},
   "outputs": [
    {
     "name": "stdout",
     "output_type": "stream",
     "text": [
      "Index of 5 in [1, 2, 3, 4, 5, 6, 7, 8, 9] is:  4\n",
      "Index of 10 in [1, 2, 3, 4, 5, 6, 7, 8, 9] is:  -1\n"
     ]
    }
   ],
   "source": [
    "### 114. Binary Search: Write a recursive Python function called `binary_search` that takes a sorted list and a target value as input and returns the index of the target value in the list using binary search. If the target value is not in the list, return -1.\n",
    "\n",
    "def binary_search(arr, target, start, end):\n",
    "    if start > end:\n",
    "        return -1\n",
    "    mid = (start + end) // 2\n",
    "    if arr[mid] == target:\n",
    "        return mid\n",
    "    elif arr[mid] > target:\n",
    "        return binary_search(arr, target, start, mid - 1)\n",
    "    else:\n",
    "        return binary_search(arr, target, mid + 1, end)\n",
    "\n",
    "def binary_search_wrapper(arr, target):\n",
    "    return binary_search(arr, target, 0, len(arr) - 1)\n",
    "\n",
    "print(\"Index of 5 in [1, 2, 3, 4, 5, 6, 7, 8, 9] is: \", binary_search_wrapper([1, 2, 3, 4, 5, 6, 7, 8, 9], 5))\n",
    "print(\"Index of 10 in [1, 2, 3, 4, 5, 6, 7, 8, 9] is: \", binary_search_wrapper([1, 2, 3, 4, 5, 6, 7, 8, 9], 23))"
   ]
  },
  {
   "cell_type": "code",
   "execution_count": 134,
   "id": "7ffbf844",
   "metadata": {},
   "outputs": [
    {
     "name": "stdout",
     "output_type": "stream",
     "text": [
      "8\n",
      "1\n",
      "81\n"
     ]
    }
   ],
   "source": [
    "### 115. Power Calculation: Write a recursive Python function called `power` that takes two positive integers, base and exponent, as input and returns the value of base raised to the exponent.\n",
    "\n",
    "def power(base, exponent):\n",
    "    if exponent == 0:\n",
    "        return 1\n",
    "    elif exponent == 1:\n",
    "        return base\n",
    "    else:\n",
    "        return base * power(base, exponent - 1)\n",
    "\n",
    "print(power(2, 3))\n",
    "print(power(5, 0))\n",
    "print(power(3, 4))\n"
   ]
  }
 ],
 "metadata": {
  "kernelspec": {
   "display_name": "Python 3 (ipykernel)",
   "language": "python",
   "name": "python3"
  },
  "language_info": {
   "codemirror_mode": {
    "name": "ipython",
    "version": 3
   },
   "file_extension": ".py",
   "mimetype": "text/x-python",
   "name": "python",
   "nbconvert_exporter": "python",
   "pygments_lexer": "ipython3",
   "version": "3.9.13"
  }
 },
 "nbformat": 4,
 "nbformat_minor": 5
}
